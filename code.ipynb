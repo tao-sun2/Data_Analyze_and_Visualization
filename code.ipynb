{
 "cells": [
  {
   "cell_type": "markdown",
   "metadata": {},
   "source": [
    "# Data Science for Novel Coronovirus\n",
    "\n",
    "11810206 孙涛 (Self Work)\n",
    "\n",
    "\n",
    "## 1. Background introduction:\n",
    "2019 Novel Coronavirus (COVID-19) has infected more than 1 million people in the\n",
    "world.We want to do something against this pestilence by using what we have learnt.\n",
    "This datasets consists of 11 CSV files from the KCDC (Korea Centers for Disease Control & Prevention), a structured\n",
    "dataset based on the report materials of KCDC and local governments was provided by Korean researchers.\n",
    "## 2. Data Analysis\n",
    "### 2.1 Data Statistics and Visualization\n",
    "#### 2.1.1 Data Preprocessing "
   ]
  },
  {
   "cell_type": "code",
   "execution_count": 1,
   "metadata": {},
   "outputs": [],
   "source": [
    "# needed imports\n",
    "import pandas as pd\n",
    "import numpy as np\n",
    "import seaborn as sns\n",
    "import pandas as pd\n",
    "from sklearn import manifold\n",
    "import numpy as np\n",
    "from sklearn.linear_model import LassoLarsCV\n",
    "from sklearn.ensemble import GradientBoostingRegressor\n",
    "from sklearn.model_selection import train_test_split\n",
    "from sklearn.linear_model import LinearRegression\n",
    "from sklearn.metrics import r2_score\n",
    "from sklearn.linear_model import Ridge,RidgeCV  \n",
    "from sklearn.metrics import mean_squared_error\n",
    "from matplotlib import pyplot as plt\n",
    "from scipy.cluster.hierarchy import fcluster\n",
    "from scipy.cluster.hierarchy import dendrogram, linkage\n",
    "from scipy.spatial import distance\n",
    "from sklearn.cluster import KMeans  \n",
    "from sklearn import manifold\n",
    "from sklearn.decomposition import PCA"
   ]
  },
  {
   "cell_type": "code",
   "execution_count": 3,
   "metadata": {
    "scrolled": true
   },
   "outputs": [
    {
     "data": {
      "text/html": [
       "<div>\n",
       "<style scoped>\n",
       "    .dataframe tbody tr th:only-of-type {\n",
       "        vertical-align: middle;\n",
       "    }\n",
       "\n",
       "    .dataframe tbody tr th {\n",
       "        vertical-align: top;\n",
       "    }\n",
       "\n",
       "    .dataframe thead th {\n",
       "        text-align: right;\n",
       "    }\n",
       "</style>\n",
       "<table border=\"1\" class=\"dataframe\">\n",
       "  <thead>\n",
       "    <tr style=\"text-align: right;\">\n",
       "      <th></th>\n",
       "      <th>patient_id</th>\n",
       "      <th>global_num</th>\n",
       "      <th>sex</th>\n",
       "      <th>birth_year</th>\n",
       "      <th>age</th>\n",
       "      <th>country</th>\n",
       "      <th>province</th>\n",
       "      <th>city</th>\n",
       "      <th>disease</th>\n",
       "      <th>infection_case</th>\n",
       "      <th>infection_order</th>\n",
       "      <th>infected_by</th>\n",
       "      <th>contact_number</th>\n",
       "      <th>symptom_onset_date</th>\n",
       "      <th>confirmed_date</th>\n",
       "      <th>released_date</th>\n",
       "      <th>deceased_date</th>\n",
       "      <th>state</th>\n",
       "    </tr>\n",
       "  </thead>\n",
       "  <tbody>\n",
       "    <tr>\n",
       "      <th>0</th>\n",
       "      <td>1000000001</td>\n",
       "      <td>2.0</td>\n",
       "      <td>male</td>\n",
       "      <td>1964.0</td>\n",
       "      <td>50s</td>\n",
       "      <td>Korea</td>\n",
       "      <td>Seoul</td>\n",
       "      <td>Gangseo-gu</td>\n",
       "      <td>NaN</td>\n",
       "      <td>overseas inflow</td>\n",
       "      <td>1.0</td>\n",
       "      <td>NaN</td>\n",
       "      <td>75.0</td>\n",
       "      <td>2020-01-22</td>\n",
       "      <td>2020-01-23</td>\n",
       "      <td>2020-02-05</td>\n",
       "      <td>NaN</td>\n",
       "      <td>released</td>\n",
       "    </tr>\n",
       "    <tr>\n",
       "      <th>1</th>\n",
       "      <td>1000000002</td>\n",
       "      <td>5.0</td>\n",
       "      <td>male</td>\n",
       "      <td>1987.0</td>\n",
       "      <td>30s</td>\n",
       "      <td>Korea</td>\n",
       "      <td>Seoul</td>\n",
       "      <td>Jungnang-gu</td>\n",
       "      <td>NaN</td>\n",
       "      <td>overseas inflow</td>\n",
       "      <td>1.0</td>\n",
       "      <td>NaN</td>\n",
       "      <td>31.0</td>\n",
       "      <td>NaN</td>\n",
       "      <td>2020-01-30</td>\n",
       "      <td>2020-03-02</td>\n",
       "      <td>NaN</td>\n",
       "      <td>released</td>\n",
       "    </tr>\n",
       "    <tr>\n",
       "      <th>2</th>\n",
       "      <td>1000000003</td>\n",
       "      <td>6.0</td>\n",
       "      <td>male</td>\n",
       "      <td>1964.0</td>\n",
       "      <td>50s</td>\n",
       "      <td>Korea</td>\n",
       "      <td>Seoul</td>\n",
       "      <td>Jongno-gu</td>\n",
       "      <td>NaN</td>\n",
       "      <td>contact with patient</td>\n",
       "      <td>2.0</td>\n",
       "      <td>2.002000e+09</td>\n",
       "      <td>17.0</td>\n",
       "      <td>NaN</td>\n",
       "      <td>2020-01-30</td>\n",
       "      <td>2020-02-19</td>\n",
       "      <td>NaN</td>\n",
       "      <td>released</td>\n",
       "    </tr>\n",
       "    <tr>\n",
       "      <th>3</th>\n",
       "      <td>1000000004</td>\n",
       "      <td>7.0</td>\n",
       "      <td>male</td>\n",
       "      <td>1991.0</td>\n",
       "      <td>20s</td>\n",
       "      <td>Korea</td>\n",
       "      <td>Seoul</td>\n",
       "      <td>Mapo-gu</td>\n",
       "      <td>NaN</td>\n",
       "      <td>overseas inflow</td>\n",
       "      <td>1.0</td>\n",
       "      <td>NaN</td>\n",
       "      <td>9.0</td>\n",
       "      <td>2020-01-26</td>\n",
       "      <td>2020-01-30</td>\n",
       "      <td>2020-02-15</td>\n",
       "      <td>NaN</td>\n",
       "      <td>released</td>\n",
       "    </tr>\n",
       "    <tr>\n",
       "      <th>4</th>\n",
       "      <td>1000000005</td>\n",
       "      <td>9.0</td>\n",
       "      <td>female</td>\n",
       "      <td>1992.0</td>\n",
       "      <td>20s</td>\n",
       "      <td>Korea</td>\n",
       "      <td>Seoul</td>\n",
       "      <td>Seongbuk-gu</td>\n",
       "      <td>NaN</td>\n",
       "      <td>contact with patient</td>\n",
       "      <td>2.0</td>\n",
       "      <td>1.000000e+09</td>\n",
       "      <td>2.0</td>\n",
       "      <td>NaN</td>\n",
       "      <td>2020-01-31</td>\n",
       "      <td>2020-02-24</td>\n",
       "      <td>NaN</td>\n",
       "      <td>released</td>\n",
       "    </tr>\n",
       "  </tbody>\n",
       "</table>\n",
       "</div>"
      ],
      "text/plain": [
       "   patient_id  global_num     sex  birth_year  age country province  \\\n",
       "0  1000000001         2.0    male      1964.0  50s   Korea    Seoul   \n",
       "1  1000000002         5.0    male      1987.0  30s   Korea    Seoul   \n",
       "2  1000000003         6.0    male      1964.0  50s   Korea    Seoul   \n",
       "3  1000000004         7.0    male      1991.0  20s   Korea    Seoul   \n",
       "4  1000000005         9.0  female      1992.0  20s   Korea    Seoul   \n",
       "\n",
       "          city disease        infection_case  infection_order   infected_by  \\\n",
       "0   Gangseo-gu     NaN       overseas inflow              1.0           NaN   \n",
       "1  Jungnang-gu     NaN       overseas inflow              1.0           NaN   \n",
       "2    Jongno-gu     NaN  contact with patient              2.0  2.002000e+09   \n",
       "3      Mapo-gu     NaN       overseas inflow              1.0           NaN   \n",
       "4  Seongbuk-gu     NaN  contact with patient              2.0  1.000000e+09   \n",
       "\n",
       "   contact_number symptom_onset_date confirmed_date released_date  \\\n",
       "0            75.0         2020-01-22     2020-01-23    2020-02-05   \n",
       "1            31.0                NaN     2020-01-30    2020-03-02   \n",
       "2            17.0                NaN     2020-01-30    2020-02-19   \n",
       "3             9.0         2020-01-26     2020-01-30    2020-02-15   \n",
       "4             2.0                NaN     2020-01-31    2020-02-24   \n",
       "\n",
       "  deceased_date     state  \n",
       "0           NaN  released  \n",
       "1           NaN  released  \n",
       "2           NaN  released  \n",
       "3           NaN  released  \n",
       "4           NaN  released  "
      ]
     },
     "execution_count": 3,
     "metadata": {},
     "output_type": "execute_result"
    }
   ],
   "source": [
    "PatientInfo = pd.read_csv('PatientInfo.csv')\n",
    "PatientInfo.head(5)"
   ]
  },
  {
   "cell_type": "markdown",
   "metadata": {},
   "source": [
    "1. Using the method duplicated in Pandas to detect duplicate values in the dataset"
   ]
  },
  {
   "cell_type": "code",
   "execution_count": 143,
   "metadata": {},
   "outputs": [
    {
     "data": {
      "text/html": [
       "<div>\n",
       "<style scoped>\n",
       "    .dataframe tbody tr th:only-of-type {\n",
       "        vertical-align: middle;\n",
       "    }\n",
       "\n",
       "    .dataframe tbody tr th {\n",
       "        vertical-align: top;\n",
       "    }\n",
       "\n",
       "    .dataframe thead th {\n",
       "        text-align: right;\n",
       "    }\n",
       "</style>\n",
       "<table border=\"1\" class=\"dataframe\">\n",
       "  <thead>\n",
       "    <tr style=\"text-align: right;\">\n",
       "      <th></th>\n",
       "      <th>patient_id</th>\n",
       "      <th>global_num</th>\n",
       "      <th>sex</th>\n",
       "      <th>birth_year</th>\n",
       "      <th>age</th>\n",
       "      <th>country</th>\n",
       "      <th>province</th>\n",
       "      <th>city</th>\n",
       "      <th>disease</th>\n",
       "      <th>infection_case</th>\n",
       "      <th>infection_order</th>\n",
       "      <th>infected_by</th>\n",
       "      <th>contact_number</th>\n",
       "      <th>symptom_onset_date</th>\n",
       "      <th>confirmed_date</th>\n",
       "      <th>released_date</th>\n",
       "      <th>deceased_date</th>\n",
       "      <th>state</th>\n",
       "    </tr>\n",
       "  </thead>\n",
       "  <tbody>\n",
       "  </tbody>\n",
       "</table>\n",
       "</div>"
      ],
      "text/plain": [
       "Empty DataFrame\n",
       "Columns: [patient_id, global_num, sex, birth_year, age, country, province, city, disease, infection_case, infection_order, infected_by, contact_number, symptom_onset_date, confirmed_date, released_date, deceased_date, state]\n",
       "Index: []"
      ]
     },
     "execution_count": 143,
     "metadata": {},
     "output_type": "execute_result"
    }
   ],
   "source": [
    "PatientInfo[PatientInfo.duplicated()] "
   ]
  },
  {
   "cell_type": "markdown",
   "metadata": {},
   "source": [
    "The result shows there is no duplicate values.\n",
    "2. See if there are missing values for each attribute of the data set"
   ]
  },
  {
   "cell_type": "code",
   "execution_count": 144,
   "metadata": {
    "scrolled": true
   },
   "outputs": [
    {
     "name": "stdout",
     "output_type": "stream",
     "text": [
      "patient_id               0\n",
      "global_num            1160\n",
      "sex                     94\n",
      "birth_year             464\n",
      "age                    105\n",
      "country                 90\n",
      "province                 0\n",
      "city                    76\n",
      "disease               3110\n",
      "infection_case         819\n",
      "infection_order       3097\n",
      "infected_by           2393\n",
      "contact_number        2539\n",
      "symptom_onset_date    2682\n",
      "confirmed_date           0\n",
      "released_date         2147\n",
      "deceased_date         3072\n",
      "state                    0\n",
      "dtype: int64\n",
      "3128\n"
     ]
    }
   ],
   "source": [
    "index_array = np.sum(PatientInfo.isnull() == True, axis=0)\n",
    "print(index_array)\n",
    "print(PatientInfo.shape[0])"
   ]
  },
  {
   "cell_type": "markdown",
   "metadata": {},
   "source": [
    "There are 3128 rows in the dataset PatientInfo.csv\n",
    "I notice that there are many miss values in many colums, and I decide first observe characteristics of the data by visualization and then deal with the miss value."
   ]
  },
  {
   "cell_type": "markdown",
   "metadata": {},
   "source": [
    "3. Outlier detecting"
   ]
  },
  {
   "cell_type": "code",
   "execution_count": 145,
   "metadata": {},
   "outputs": [
    {
     "data": {
      "text/html": [
       "<div>\n",
       "<style scoped>\n",
       "    .dataframe tbody tr th:only-of-type {\n",
       "        vertical-align: middle;\n",
       "    }\n",
       "\n",
       "    .dataframe tbody tr th {\n",
       "        vertical-align: top;\n",
       "    }\n",
       "\n",
       "    .dataframe thead th {\n",
       "        text-align: right;\n",
       "    }\n",
       "</style>\n",
       "<table border=\"1\" class=\"dataframe\">\n",
       "  <thead>\n",
       "    <tr style=\"text-align: right;\">\n",
       "      <th></th>\n",
       "      <th>count</th>\n",
       "      <th>mean</th>\n",
       "      <th>std</th>\n",
       "      <th>min</th>\n",
       "      <th>25%</th>\n",
       "      <th>50%</th>\n",
       "      <th>75%</th>\n",
       "      <th>max</th>\n",
       "    </tr>\n",
       "  </thead>\n",
       "  <tbody>\n",
       "    <tr>\n",
       "      <th>patient_id</th>\n",
       "      <td>3128</td>\n",
       "      <td>3562811488</td>\n",
       "      <td>2210168227</td>\n",
       "      <td>1000000001</td>\n",
       "      <td>1300000026</td>\n",
       "      <td>2000000576</td>\n",
       "      <td>6001000519</td>\n",
       "      <td>7000000009</td>\n",
       "    </tr>\n",
       "    <tr>\n",
       "      <th>global_num</th>\n",
       "      <td>1968</td>\n",
       "      <td>6234</td>\n",
       "      <td>3297</td>\n",
       "      <td>1</td>\n",
       "      <td>3624</td>\n",
       "      <td>7437</td>\n",
       "      <td>9085</td>\n",
       "      <td>10329</td>\n",
       "    </tr>\n",
       "    <tr>\n",
       "      <th>birth_year</th>\n",
       "      <td>2664</td>\n",
       "      <td>1974</td>\n",
       "      <td>20</td>\n",
       "      <td>1916</td>\n",
       "      <td>1960</td>\n",
       "      <td>1974</td>\n",
       "      <td>1993</td>\n",
       "      <td>2020</td>\n",
       "    </tr>\n",
       "    <tr>\n",
       "      <th>infection_order</th>\n",
       "      <td>31</td>\n",
       "      <td>2</td>\n",
       "      <td>1</td>\n",
       "      <td>1</td>\n",
       "      <td>1</td>\n",
       "      <td>2</td>\n",
       "      <td>3</td>\n",
       "      <td>6</td>\n",
       "    </tr>\n",
       "    <tr>\n",
       "      <th>infected_by</th>\n",
       "      <td>735</td>\n",
       "      <td>2557285853</td>\n",
       "      <td>1645930848</td>\n",
       "      <td>1000000002</td>\n",
       "      <td>1200000031</td>\n",
       "      <td>2000000205</td>\n",
       "      <td>4100000006</td>\n",
       "      <td>6100000384</td>\n",
       "    </tr>\n",
       "    <tr>\n",
       "      <th>contact_number</th>\n",
       "      <td>589</td>\n",
       "      <td>18</td>\n",
       "      <td>76</td>\n",
       "      <td>0</td>\n",
       "      <td>2</td>\n",
       "      <td>4</td>\n",
       "      <td>14</td>\n",
       "      <td>1160</td>\n",
       "    </tr>\n",
       "  </tbody>\n",
       "</table>\n",
       "</div>"
      ],
      "text/plain": [
       "                 count        mean         std         min         25%  \\\n",
       "patient_id        3128  3562811488  2210168227  1000000001  1300000026   \n",
       "global_num        1968        6234        3297           1        3624   \n",
       "birth_year        2664        1974          20        1916        1960   \n",
       "infection_order     31           2           1           1           1   \n",
       "infected_by        735  2557285853  1645930848  1000000002  1200000031   \n",
       "contact_number     589          18          76           0           2   \n",
       "\n",
       "                        50%         75%         max  \n",
       "patient_id       2000000576  6001000519  7000000009  \n",
       "global_num             7437        9085       10329  \n",
       "birth_year             1974        1993        2020  \n",
       "infection_order           2           3           6  \n",
       "infected_by      2000000205  4100000006  6100000384  \n",
       "contact_number            4          14        1160  "
      ]
     },
     "execution_count": 145,
     "metadata": {},
     "output_type": "execute_result"
    }
   ],
   "source": [
    "PatientInfo.describe().astype(np.int64).T"
   ]
  },
  {
   "cell_type": "markdown",
   "metadata": {},
   "source": [
    "The results show that there is no outliers\n",
    "#### 2.1.2 Visualization of PatientInfo\n",
    "1. Gender distribution"
   ]
  },
  {
   "cell_type": "code",
   "execution_count": 146,
   "metadata": {},
   "outputs": [
    {
     "data": {
      "text/plain": [
       "<matplotlib.axes._subplots.AxesSubplot at 0x2296931a548>"
      ]
     },
     "execution_count": 146,
     "metadata": {},
     "output_type": "execute_result"
    },
    {
     "data": {
      "image/png": "[encoded data removed]",
      "text/plain": [
       "<Figure size 432x288 with 1 Axes>"
      ]
     },
     "metadata": {
      "needs_background": "light"
     },
     "output_type": "display_data"
    }
   ],
   "source": [
    "PatientInfo['sex'].value_counts().plot(kind='bar',title='Gender distribution',fontsize=15, rot=360)"
   ]
  },
  {
   "cell_type": "markdown",
   "metadata": {},
   "source": [
    "2. Age distribution"
   ]
  },
  {
   "cell_type": "code",
   "execution_count": 147,
   "metadata": {},
   "outputs": [
    {
     "data": {
      "text/plain": [
       "<matplotlib.axes._subplots.AxesSubplot at 0x229693ed588>"
      ]
     },
     "execution_count": 147,
     "metadata": {},
     "output_type": "execute_result"
    },
    {
     "data": {
      "image/png": "[encoded data removed]",
      "text/plain": [
       "<Figure size 432x288 with 1 Axes>"
      ]
     },
     "metadata": {
      "needs_background": "light"
     },
     "output_type": "display_data"
    }
   ],
   "source": [
    "PatientInfo['age'].value_counts().plot(kind='bar',title='Age distribution',fontsize=15, rot=360)"
   ]
  },
  {
   "cell_type": "markdown",
   "metadata": {},
   "source": [
    "3. Top ten cities with the most patients"
   ]
  },
  {
   "cell_type": "code",
   "execution_count": 148,
   "metadata": {},
   "outputs": [
    {
     "data": {
      "image/png": "[encoded data removed]",
      "text/plain": [
       "<Figure size 432x288 with 1 Axes>"
      ]
     },
     "metadata": {
      "needs_background": "light"
     },
     "output_type": "display_data"
    }
   ],
   "source": [
    "city=PatientInfo['city'].value_counts()\n",
    "city= city.sort_values(ascending=False)[:10]\n",
    "city.sort_values(ascending=True).plot.barh(fontsize=15)\n",
    "plt.title('Top ten cities with the most patients',size=15)\n",
    "plt.show()"
   ]
  },
  {
   "cell_type": "markdown",
   "metadata": {},
   "source": [
    "4. Top ten province with the most patients"
   ]
  },
  {
   "cell_type": "code",
   "execution_count": 149,
   "metadata": {},
   "outputs": [
    {
     "data": {
      "image/png": "[encoded data removed]",
      "text/plain": [
       "<Figure size 432x288 with 1 Axes>"
      ]
     },
     "metadata": {
      "needs_background": "light"
     },
     "output_type": "display_data"
    }
   ],
   "source": [
    "province=PatientInfo['province'].value_counts()\n",
    "province= province.sort_values(ascending=False)[:10]\n",
    "province.sort_values(ascending=True).plot.barh(fontsize=15)\n",
    "plt.title('Top ten provinces with the most patients',size=15)\n",
    "plt.show()"
   ]
  },
  {
   "cell_type": "markdown",
   "metadata": {},
   "source": [
    "5. Top ten infection_case of patients"
   ]
  },
  {
   "cell_type": "code",
   "execution_count": 150,
   "metadata": {},
   "outputs": [
    {
     "data": {
      "image/png": "[encoded data removed]",
      "text/plain": [
       "<Figure size 432x288 with 1 Axes>"
      ]
     },
     "metadata": {
      "needs_background": "light"
     },
     "output_type": "display_data"
    }
   ],
   "source": [
    "infection_case=PatientInfo['infection_case'].value_counts()\n",
    "infection_case= infection_case.sort_values(ascending=False)[:10]\n",
    "infection_case.sort_values(ascending=True).plot.barh(fontsize=15)\n",
    "plt.title('Top ten infection_case of patients',size=15)\n",
    "plt.show()"
   ]
  },
  {
   "cell_type": "markdown",
   "metadata": {},
   "source": [
    "6. The relation between sex and state among patients."
   ]
  },
  {
   "cell_type": "code",
   "execution_count": 151,
   "metadata": {},
   "outputs": [
    {
     "data": {
      "text/plain": [
       "<matplotlib.axes._subplots.AxesSubplot at 0x22968175c48>"
      ]
     },
     "execution_count": 151,
     "metadata": {},
     "output_type": "execute_result"
    },
    {
     "data": {
      "image/png": "[encoded data removed]",
      "text/plain": [
       "<Figure size 432x288 with 1 Axes>"
      ]
     },
     "metadata": {
      "needs_background": "light"
     },
     "output_type": "display_data"
    }
   ],
   "source": [
    "sns.countplot(x=\"state\", hue=\"sex\", data=PatientInfo)"
   ]
  },
  {
   "cell_type": "markdown",
   "metadata": {},
   "source": [
    "7. The relation between age and state among patients."
   ]
  },
  {
   "cell_type": "code",
   "execution_count": 152,
   "metadata": {},
   "outputs": [
    {
     "data": {
      "text/plain": [
       "<matplotlib.axes._subplots.AxesSubplot at 0x229694a0048>"
      ]
     },
     "execution_count": 152,
     "metadata": {},
     "output_type": "execute_result"
    },
    {
     "data": {
      "image/png": "[encoded data removed]",
      "text/plain": [
       "<Figure size 432x288 with 1 Axes>"
      ]
     },
     "metadata": {
      "needs_background": "light"
     },
     "output_type": "display_data"
    }
   ],
   "source": [
    "sns.countplot(x=\"state\", hue=\"age\", data=PatientInfo)"
   ]
  },
  {
   "cell_type": "markdown",
   "metadata": {},
   "source": [
    "8. The relation between the top five cities with most patients and state among patients."
   ]
  },
  {
   "cell_type": "code",
   "execution_count": 153,
   "metadata": {},
   "outputs": [
    {
     "data": {
      "text/plain": [
       "<matplotlib.axes._subplots.AxesSubplot at 0x2296a829608>"
      ]
     },
     "execution_count": 153,
     "metadata": {},
     "output_type": "execute_result"
    },
    {
     "data": {
      "image/png": "[encoded data removed]",
      "text/plain": [
       "<Figure size 432x288 with 1 Axes>"
      ]
     },
     "metadata": {
      "needs_background": "light"
     },
     "output_type": "display_data"
    }
   ],
   "source": [
    "top_five_cities=PatientInfo[PatientInfo['city'].isin(['Gyeongsan-si','Seongnam-si','Bonghwa-gun','Bucheon-si','Gumi-si'])]\n",
    "sns.countplot(x=\"state\", hue=\"city\", data=top_five_cities)"
   ]
  },
  {
   "cell_type": "markdown",
   "metadata": {},
   "source": [
    "9. The relation between the top five provinces with most patients and state among patients."
   ]
  },
  {
   "cell_type": "code",
   "execution_count": 154,
   "metadata": {},
   "outputs": [
    {
     "data": {
      "text/plain": [
       "<matplotlib.axes._subplots.AxesSubplot at 0x2296a8ba348>"
      ]
     },
     "execution_count": 154,
     "metadata": {},
     "output_type": "execute_result"
    },
    {
     "data": {
      "image/png": "[encoded data removed]",
      "text/plain": [
       "<Figure size 432x288 with 1 Axes>"
      ]
     },
     "metadata": {
      "needs_background": "light"
     },
     "output_type": "display_data"
    }
   ],
   "source": [
    "top_five_provinces=PatientInfo[PatientInfo['province'].isin(['Gyeongsangbuk-do','Gyeonggi-do','Seoul','Chungcheongnam-do','Busan'])]\n",
    "sns.countplot(x=\"state\", hue=\"province\", data=top_five_provinces)"
   ]
  },
  {
   "cell_type": "markdown",
   "metadata": {},
   "source": [
    "10. The relation between the top five infection_case with most patients and state among patients."
   ]
  },
  {
   "cell_type": "code",
   "execution_count": 155,
   "metadata": {},
   "outputs": [
    {
     "data": {
      "text/plain": [
       "<matplotlib.axes._subplots.AxesSubplot at 0x2296b922708>"
      ]
     },
     "execution_count": 155,
     "metadata": {},
     "output_type": "execute_result"
    },
    {
     "data": {
      "image/png": "[encoded data removed]",
      "text/plain": [
       "<Figure size 432x288 with 1 Axes>"
      ]
     },
     "metadata": {
      "needs_background": "light"
     },
     "output_type": "display_data"
    }
   ],
   "source": [
    "top_five_infection_case=PatientInfo[PatientInfo['infection_case'].\n",
    "                                    isin(['contact with patient','etc','overseas inflow','Guro-gu Call Center','Shincheonji Church'])]\n",
    "sns.countplot(x=\"state\", hue=\"infection_case\", data=top_five_infection_case)"
   ]
  },
  {
   "cell_type": "markdown",
   "metadata": {},
   "source": [
    "**Conclusion:**\n",
    "\n",
    "After preliminary data visualization analysis, we can find that the number of female patients is about 300 larger than the number of male patients, most patients are aged from 20 to 60, most patients are form the city Gyeongsan-si, most patients are form the provinces  Gyeongsangbuk-do, Gyeonggi-do and Seoul and most infection cases are contact with patient, etc and overseas inflow.\n",
    "\n",
    "By analysing the states of patients(isolated / released / deceased) and other attributes, we can find that male patients may be a little easier to be deceased than female patients because the number of female patients is larger than the number of male patients but the number of  deceased female patients is less than the number of deceased male patients.\n",
    "\n",
    "We can also find that younger patients may be easier to be released than older patients and older patients may be easier to be deceased than older patients.\n",
    "\n",
    "We can also find that contacting with patients around you in your city and province is the main reason people get infected.\n",
    "#### 2.1.3 Visualize the Time Series Data \n",
    "1. Visualize the File Time"
   ]
  },
  {
   "cell_type": "code",
   "execution_count": 156,
   "metadata": {},
   "outputs": [
    {
     "data": {
      "text/html": [
       "<div>\n",
       "<style scoped>\n",
       "    .dataframe tbody tr th:only-of-type {\n",
       "        vertical-align: middle;\n",
       "    }\n",
       "\n",
       "    .dataframe tbody tr th {\n",
       "        vertical-align: top;\n",
       "    }\n",
       "\n",
       "    .dataframe thead th {\n",
       "        text-align: right;\n",
       "    }\n",
       "</style>\n",
       "<table border=\"1\" class=\"dataframe\">\n",
       "  <thead>\n",
       "    <tr style=\"text-align: right;\">\n",
       "      <th></th>\n",
       "      <th>date</th>\n",
       "      <th>time</th>\n",
       "      <th>test</th>\n",
       "      <th>negative</th>\n",
       "      <th>confirmed</th>\n",
       "      <th>released</th>\n",
       "      <th>deceased</th>\n",
       "    </tr>\n",
       "  </thead>\n",
       "  <tbody>\n",
       "    <tr>\n",
       "      <th>0</th>\n",
       "      <td>2020-01-20</td>\n",
       "      <td>16</td>\n",
       "      <td>1</td>\n",
       "      <td>0</td>\n",
       "      <td>1</td>\n",
       "      <td>0</td>\n",
       "      <td>0</td>\n",
       "    </tr>\n",
       "    <tr>\n",
       "      <th>1</th>\n",
       "      <td>2020-01-21</td>\n",
       "      <td>16</td>\n",
       "      <td>1</td>\n",
       "      <td>0</td>\n",
       "      <td>1</td>\n",
       "      <td>0</td>\n",
       "      <td>0</td>\n",
       "    </tr>\n",
       "    <tr>\n",
       "      <th>2</th>\n",
       "      <td>2020-01-22</td>\n",
       "      <td>16</td>\n",
       "      <td>4</td>\n",
       "      <td>3</td>\n",
       "      <td>1</td>\n",
       "      <td>0</td>\n",
       "      <td>0</td>\n",
       "    </tr>\n",
       "    <tr>\n",
       "      <th>3</th>\n",
       "      <td>2020-01-23</td>\n",
       "      <td>16</td>\n",
       "      <td>22</td>\n",
       "      <td>21</td>\n",
       "      <td>1</td>\n",
       "      <td>0</td>\n",
       "      <td>0</td>\n",
       "    </tr>\n",
       "    <tr>\n",
       "      <th>4</th>\n",
       "      <td>2020-01-24</td>\n",
       "      <td>16</td>\n",
       "      <td>27</td>\n",
       "      <td>25</td>\n",
       "      <td>2</td>\n",
       "      <td>0</td>\n",
       "      <td>0</td>\n",
       "    </tr>\n",
       "  </tbody>\n",
       "</table>\n",
       "</div>"
      ],
      "text/plain": [
       "         date  time  test  negative  confirmed  released  deceased\n",
       "0  2020-01-20    16     1         0          1         0         0\n",
       "1  2020-01-21    16     1         0          1         0         0\n",
       "2  2020-01-22    16     4         3          1         0         0\n",
       "3  2020-01-23    16    22        21          1         0         0\n",
       "4  2020-01-24    16    27        25          2         0         0"
      ]
     },
     "execution_count": 156,
     "metadata": {},
     "output_type": "execute_result"
    }
   ],
   "source": [
    "Time = pd.read_csv('Time.csv')\n",
    "Time.head(5)"
   ]
  },
  {
   "cell_type": "code",
   "execution_count": 157,
   "metadata": {},
   "outputs": [
    {
     "data": {
      "text/html": [
       "<div>\n",
       "<style scoped>\n",
       "    .dataframe tbody tr th:only-of-type {\n",
       "        vertical-align: middle;\n",
       "    }\n",
       "\n",
       "    .dataframe tbody tr th {\n",
       "        vertical-align: top;\n",
       "    }\n",
       "\n",
       "    .dataframe thead th {\n",
       "        text-align: right;\n",
       "    }\n",
       "</style>\n",
       "<table border=\"1\" class=\"dataframe\">\n",
       "  <thead>\n",
       "    <tr style=\"text-align: right;\">\n",
       "      <th></th>\n",
       "      <th>test</th>\n",
       "      <th>negative</th>\n",
       "      <th>confirmed</th>\n",
       "      <th>released</th>\n",
       "      <th>deceased</th>\n",
       "    </tr>\n",
       "    <tr>\n",
       "      <th>date</th>\n",
       "      <th></th>\n",
       "      <th></th>\n",
       "      <th></th>\n",
       "      <th></th>\n",
       "      <th></th>\n",
       "    </tr>\n",
       "  </thead>\n",
       "  <tbody>\n",
       "    <tr>\n",
       "      <th>2020-01-20</th>\n",
       "      <td>1</td>\n",
       "      <td>0</td>\n",
       "      <td>1</td>\n",
       "      <td>0</td>\n",
       "      <td>0</td>\n",
       "    </tr>\n",
       "    <tr>\n",
       "      <th>2020-01-21</th>\n",
       "      <td>1</td>\n",
       "      <td>0</td>\n",
       "      <td>1</td>\n",
       "      <td>0</td>\n",
       "      <td>0</td>\n",
       "    </tr>\n",
       "    <tr>\n",
       "      <th>2020-01-22</th>\n",
       "      <td>4</td>\n",
       "      <td>3</td>\n",
       "      <td>1</td>\n",
       "      <td>0</td>\n",
       "      <td>0</td>\n",
       "    </tr>\n",
       "    <tr>\n",
       "      <th>2020-01-23</th>\n",
       "      <td>22</td>\n",
       "      <td>21</td>\n",
       "      <td>1</td>\n",
       "      <td>0</td>\n",
       "      <td>0</td>\n",
       "    </tr>\n",
       "    <tr>\n",
       "      <th>2020-01-24</th>\n",
       "      <td>27</td>\n",
       "      <td>25</td>\n",
       "      <td>2</td>\n",
       "      <td>0</td>\n",
       "      <td>0</td>\n",
       "    </tr>\n",
       "  </tbody>\n",
       "</table>\n",
       "</div>"
      ],
      "text/plain": [
       "            test  negative  confirmed  released  deceased\n",
       "date                                                     \n",
       "2020-01-20     1         0          1         0         0\n",
       "2020-01-21     1         0          1         0         0\n",
       "2020-01-22     4         3          1         0         0\n",
       "2020-01-23    22        21          1         0         0\n",
       "2020-01-24    27        25          2         0         0"
      ]
     },
     "execution_count": 157,
     "metadata": {},
     "output_type": "execute_result"
    }
   ],
   "source": [
    "#We do not care the update time so we drop it.\n",
    "Time.drop(['time'],axis=1,inplace=True)\n",
    "Time.set_index('date',inplace=True)\n",
    "Time.head(5)"
   ]
  },
  {
   "cell_type": "code",
   "execution_count": 158,
   "metadata": {},
   "outputs": [
    {
     "data": {
      "image/png": "[encoded data removed]",
      "text/plain": [
       "<Figure size 864x432 with 1 Axes>"
      ]
     },
     "metadata": {
      "needs_background": "light"
     },
     "output_type": "display_data"
    }
   ],
   "source": [
    "fig, ax = plt.subplots(figsize=(12,6))\n",
    "Time.plot(marker='o',ms=2,lw=1,ax=ax)\n",
    "fig.autofmt_xdate()\n",
    "plt.legend(bbox_to_anchor = [1,1])\n",
    "plt.title('COVID-19 Data of South Korea',size=15)\n",
    "plt.ylabel('number')\n",
    "plt.grid(axis='y')\n",
    "plt.show()"
   ]
  },
  {
   "cell_type": "markdown",
   "metadata": {},
   "source": [
    "The figure is not very clear because the accumulated test and negative number is much larger that the rest numbers.\n",
    "Hence we will just focus on the number of confirmed, released and deceased patients."
   ]
  },
  {
   "cell_type": "code",
   "execution_count": 159,
   "metadata": {},
   "outputs": [
    {
     "data": {
      "image/png": "[encoded data removed]",
      "text/plain": [
       "<Figure size 864x432 with 1 Axes>"
      ]
     },
     "metadata": {
      "needs_background": "light"
     },
     "output_type": "display_data"
    }
   ],
   "source": [
    "Time.drop(['test','negative'],axis=1,inplace=True)\n",
    "fig, ax = plt.subplots(figsize=(12,6))\n",
    "Time.plot(marker='o',ms=2,lw=1,ax=ax)\n",
    "fig.autofmt_xdate()\n",
    "plt.legend(bbox_to_anchor = [1,1])\n",
    "plt.title('COVID-19 Data of South Korea',size=15)\n",
    "plt.ylabel('number')\n",
    "plt.grid(axis='y')\n",
    "plt.show()"
   ]
  },
  {
   "cell_type": "markdown",
   "metadata": {},
   "source": [
    "2. Visualize the File TimeAge"
   ]
  },
  {
   "cell_type": "code",
   "execution_count": 4,
   "metadata": {},
   "outputs": [
    {
     "data": {
      "text/html": [
       "<div>\n",
       "<style scoped>\n",
       "    .dataframe tbody tr th:only-of-type {\n",
       "        vertical-align: middle;\n",
       "    }\n",
       "\n",
       "    .dataframe tbody tr th {\n",
       "        vertical-align: top;\n",
       "    }\n",
       "\n",
       "    .dataframe thead th {\n",
       "        text-align: right;\n",
       "    }\n",
       "</style>\n",
       "<table border=\"1\" class=\"dataframe\">\n",
       "  <thead>\n",
       "    <tr style=\"text-align: right;\">\n",
       "      <th></th>\n",
       "      <th>date</th>\n",
       "      <th>time</th>\n",
       "      <th>age</th>\n",
       "      <th>confirmed</th>\n",
       "      <th>deceased</th>\n",
       "    </tr>\n",
       "  </thead>\n",
       "  <tbody>\n",
       "    <tr>\n",
       "      <th>0</th>\n",
       "      <td>2020-03-02</td>\n",
       "      <td>0</td>\n",
       "      <td>0s</td>\n",
       "      <td>32</td>\n",
       "      <td>0</td>\n",
       "    </tr>\n",
       "    <tr>\n",
       "      <th>1</th>\n",
       "      <td>2020-03-02</td>\n",
       "      <td>0</td>\n",
       "      <td>10s</td>\n",
       "      <td>169</td>\n",
       "      <td>0</td>\n",
       "    </tr>\n",
       "    <tr>\n",
       "      <th>2</th>\n",
       "      <td>2020-03-02</td>\n",
       "      <td>0</td>\n",
       "      <td>20s</td>\n",
       "      <td>1235</td>\n",
       "      <td>0</td>\n",
       "    </tr>\n",
       "    <tr>\n",
       "      <th>3</th>\n",
       "      <td>2020-03-02</td>\n",
       "      <td>0</td>\n",
       "      <td>30s</td>\n",
       "      <td>506</td>\n",
       "      <td>1</td>\n",
       "    </tr>\n",
       "    <tr>\n",
       "      <th>4</th>\n",
       "      <td>2020-03-02</td>\n",
       "      <td>0</td>\n",
       "      <td>40s</td>\n",
       "      <td>633</td>\n",
       "      <td>1</td>\n",
       "    </tr>\n",
       "  </tbody>\n",
       "</table>\n",
       "</div>"
      ],
      "text/plain": [
       "         date  time  age  confirmed  deceased\n",
       "0  2020-03-02     0   0s         32         0\n",
       "1  2020-03-02     0  10s        169         0\n",
       "2  2020-03-02     0  20s       1235         0\n",
       "3  2020-03-02     0  30s        506         1\n",
       "4  2020-03-02     0  40s        633         1"
      ]
     },
     "execution_count": 4,
     "metadata": {},
     "output_type": "execute_result"
    }
   ],
   "source": [
    "TimeAge = pd.read_csv('TimeAge.csv')\n",
    "TimeAge.head(5)"
   ]
  },
  {
   "cell_type": "code",
   "execution_count": 5,
   "metadata": {},
   "outputs": [
    {
     "data": {
      "text/html": [
       "<div>\n",
       "<style scoped>\n",
       "    .dataframe tbody tr th:only-of-type {\n",
       "        vertical-align: middle;\n",
       "    }\n",
       "\n",
       "    .dataframe tbody tr th {\n",
       "        vertical-align: top;\n",
       "    }\n",
       "\n",
       "    .dataframe thead th {\n",
       "        text-align: right;\n",
       "    }\n",
       "</style>\n",
       "<table border=\"1\" class=\"dataframe\">\n",
       "  <thead>\n",
       "    <tr style=\"text-align: right;\">\n",
       "      <th></th>\n",
       "      <th>date</th>\n",
       "      <th>age</th>\n",
       "      <th>confirmed</th>\n",
       "      <th>deceased</th>\n",
       "    </tr>\n",
       "  </thead>\n",
       "  <tbody>\n",
       "    <tr>\n",
       "      <th>0</th>\n",
       "      <td>2020-03-02</td>\n",
       "      <td>0s</td>\n",
       "      <td>32</td>\n",
       "      <td>0</td>\n",
       "    </tr>\n",
       "    <tr>\n",
       "      <th>1</th>\n",
       "      <td>2020-03-02</td>\n",
       "      <td>10s</td>\n",
       "      <td>169</td>\n",
       "      <td>0</td>\n",
       "    </tr>\n",
       "    <tr>\n",
       "      <th>2</th>\n",
       "      <td>2020-03-02</td>\n",
       "      <td>20s</td>\n",
       "      <td>1235</td>\n",
       "      <td>0</td>\n",
       "    </tr>\n",
       "    <tr>\n",
       "      <th>3</th>\n",
       "      <td>2020-03-02</td>\n",
       "      <td>30s</td>\n",
       "      <td>506</td>\n",
       "      <td>1</td>\n",
       "    </tr>\n",
       "    <tr>\n",
       "      <th>4</th>\n",
       "      <td>2020-03-02</td>\n",
       "      <td>40s</td>\n",
       "      <td>633</td>\n",
       "      <td>1</td>\n",
       "    </tr>\n",
       "  </tbody>\n",
       "</table>\n",
       "</div>"
      ],
      "text/plain": [
       "         date  age  confirmed  deceased\n",
       "0  2020-03-02   0s         32         0\n",
       "1  2020-03-02  10s        169         0\n",
       "2  2020-03-02  20s       1235         0\n",
       "3  2020-03-02  30s        506         1\n",
       "4  2020-03-02  40s        633         1"
      ]
     },
     "execution_count": 5,
     "metadata": {},
     "output_type": "execute_result"
    }
   ],
   "source": [
    "#We do not care the update time so we drop it.\n",
    "TimeAge.drop(['time'],axis=1,inplace=True)\n",
    "TimeAge.head(5)"
   ]
  },
  {
   "cell_type": "code",
   "execution_count": 6,
   "metadata": {},
   "outputs": [
    {
     "data": {
      "text/html": [
       "<div>\n",
       "<style scoped>\n",
       "    .dataframe tbody tr th:only-of-type {\n",
       "        vertical-align: middle;\n",
       "    }\n",
       "\n",
       "    .dataframe tbody tr th {\n",
       "        vertical-align: top;\n",
       "    }\n",
       "\n",
       "    .dataframe thead th {\n",
       "        text-align: right;\n",
       "    }\n",
       "</style>\n",
       "<table border=\"1\" class=\"dataframe\">\n",
       "  <thead>\n",
       "    <tr style=\"text-align: right;\">\n",
       "      <th></th>\n",
       "      <th>age_x</th>\n",
       "      <th>confirmed_0s</th>\n",
       "      <th>deceased_0s</th>\n",
       "      <th>age_y</th>\n",
       "      <th>confirmed_10s</th>\n",
       "      <th>deceased_10s</th>\n",
       "      <th>age_x</th>\n",
       "      <th>confirmed_20s</th>\n",
       "      <th>deceased_20s</th>\n",
       "      <th>age_y</th>\n",
       "      <th>...</th>\n",
       "      <th>deceased_50s</th>\n",
       "      <th>age_x</th>\n",
       "      <th>confirmed_60s</th>\n",
       "      <th>deceased_60s</th>\n",
       "      <th>age_y</th>\n",
       "      <th>confirmed_70s</th>\n",
       "      <th>deceased_70s</th>\n",
       "      <th>age</th>\n",
       "      <th>confirmed_80s</th>\n",
       "      <th>deceased_80s</th>\n",
       "    </tr>\n",
       "    <tr>\n",
       "      <th>date</th>\n",
       "      <th></th>\n",
       "      <th></th>\n",
       "      <th></th>\n",
       "      <th></th>\n",
       "      <th></th>\n",
       "      <th></th>\n",
       "      <th></th>\n",
       "      <th></th>\n",
       "      <th></th>\n",
       "      <th></th>\n",
       "      <th></th>\n",
       "      <th></th>\n",
       "      <th></th>\n",
       "      <th></th>\n",
       "      <th></th>\n",
       "      <th></th>\n",
       "      <th></th>\n",
       "      <th></th>\n",
       "      <th></th>\n",
       "      <th></th>\n",
       "      <th></th>\n",
       "    </tr>\n",
       "  </thead>\n",
       "  <tbody>\n",
       "    <tr>\n",
       "      <th>2020-03-02</th>\n",
       "      <td>0s</td>\n",
       "      <td>32</td>\n",
       "      <td>0</td>\n",
       "      <td>10s</td>\n",
       "      <td>169</td>\n",
       "      <td>0</td>\n",
       "      <td>20s</td>\n",
       "      <td>1235</td>\n",
       "      <td>0</td>\n",
       "      <td>30s</td>\n",
       "      <td>...</td>\n",
       "      <td>5</td>\n",
       "      <td>60s</td>\n",
       "      <td>530</td>\n",
       "      <td>6</td>\n",
       "      <td>70s</td>\n",
       "      <td>192</td>\n",
       "      <td>6</td>\n",
       "      <td>80s</td>\n",
       "      <td>81</td>\n",
       "      <td>3</td>\n",
       "    </tr>\n",
       "    <tr>\n",
       "      <th>2020-03-03</th>\n",
       "      <td>0s</td>\n",
       "      <td>34</td>\n",
       "      <td>0</td>\n",
       "      <td>10s</td>\n",
       "      <td>204</td>\n",
       "      <td>0</td>\n",
       "      <td>20s</td>\n",
       "      <td>1417</td>\n",
       "      <td>0</td>\n",
       "      <td>30s</td>\n",
       "      <td>...</td>\n",
       "      <td>5</td>\n",
       "      <td>60s</td>\n",
       "      <td>597</td>\n",
       "      <td>7</td>\n",
       "      <td>70s</td>\n",
       "      <td>224</td>\n",
       "      <td>9</td>\n",
       "      <td>80s</td>\n",
       "      <td>93</td>\n",
       "      <td>5</td>\n",
       "    </tr>\n",
       "    <tr>\n",
       "      <th>2020-03-04</th>\n",
       "      <td>0s</td>\n",
       "      <td>34</td>\n",
       "      <td>0</td>\n",
       "      <td>10s</td>\n",
       "      <td>233</td>\n",
       "      <td>0</td>\n",
       "      <td>20s</td>\n",
       "      <td>1575</td>\n",
       "      <td>0</td>\n",
       "      <td>30s</td>\n",
       "      <td>...</td>\n",
       "      <td>5</td>\n",
       "      <td>60s</td>\n",
       "      <td>646</td>\n",
       "      <td>7</td>\n",
       "      <td>70s</td>\n",
       "      <td>260</td>\n",
       "      <td>12</td>\n",
       "      <td>80s</td>\n",
       "      <td>108</td>\n",
       "      <td>6</td>\n",
       "    </tr>\n",
       "    <tr>\n",
       "      <th>2020-03-05</th>\n",
       "      <td>0s</td>\n",
       "      <td>38</td>\n",
       "      <td>0</td>\n",
       "      <td>10s</td>\n",
       "      <td>257</td>\n",
       "      <td>0</td>\n",
       "      <td>20s</td>\n",
       "      <td>1727</td>\n",
       "      <td>0</td>\n",
       "      <td>30s</td>\n",
       "      <td>...</td>\n",
       "      <td>5</td>\n",
       "      <td>60s</td>\n",
       "      <td>699</td>\n",
       "      <td>8</td>\n",
       "      <td>70s</td>\n",
       "      <td>288</td>\n",
       "      <td>13</td>\n",
       "      <td>80s</td>\n",
       "      <td>124</td>\n",
       "      <td>7</td>\n",
       "    </tr>\n",
       "    <tr>\n",
       "      <th>2020-03-06</th>\n",
       "      <td>0s</td>\n",
       "      <td>45</td>\n",
       "      <td>0</td>\n",
       "      <td>10s</td>\n",
       "      <td>292</td>\n",
       "      <td>0</td>\n",
       "      <td>20s</td>\n",
       "      <td>1877</td>\n",
       "      <td>0</td>\n",
       "      <td>30s</td>\n",
       "      <td>...</td>\n",
       "      <td>5</td>\n",
       "      <td>60s</td>\n",
       "      <td>763</td>\n",
       "      <td>11</td>\n",
       "      <td>70s</td>\n",
       "      <td>340</td>\n",
       "      <td>14</td>\n",
       "      <td>80s</td>\n",
       "      <td>168</td>\n",
       "      <td>10</td>\n",
       "    </tr>\n",
       "  </tbody>\n",
       "</table>\n",
       "<p>5 rows × 27 columns</p>\n",
       "</div>"
      ],
      "text/plain": [
       "            age_x  confirmed_0s  deceased_0s  age_y  confirmed_10s  \\\n",
       "date                                                                 \n",
       "2020-03-02     0s            32            0    10s            169   \n",
       "2020-03-03     0s            34            0    10s            204   \n",
       "2020-03-04     0s            34            0    10s            233   \n",
       "2020-03-05     0s            38            0    10s            257   \n",
       "2020-03-06     0s            45            0    10s            292   \n",
       "\n",
       "            deceased_10s  age_x  confirmed_20s  deceased_20s  age_y  ...  \\\n",
       "date                                                                 ...   \n",
       "2020-03-02             0    20s           1235             0    30s  ...   \n",
       "2020-03-03             0    20s           1417             0    30s  ...   \n",
       "2020-03-04             0    20s           1575             0    30s  ...   \n",
       "2020-03-05             0    20s           1727             0    30s  ...   \n",
       "2020-03-06             0    20s           1877             0    30s  ...   \n",
       "\n",
       "            deceased_50s  age_x confirmed_60s  deceased_60s  age_y  \\\n",
       "date                                                                 \n",
       "2020-03-02             5    60s           530             6    70s   \n",
       "2020-03-03             5    60s           597             7    70s   \n",
       "2020-03-04             5    60s           646             7    70s   \n",
       "2020-03-05             5    60s           699             8    70s   \n",
       "2020-03-06             5    60s           763            11    70s   \n",
       "\n",
       "           confirmed_70s  deceased_70s  age confirmed_80s  deceased_80s  \n",
       "date                                                                     \n",
       "2020-03-02           192             6  80s            81             3  \n",
       "2020-03-03           224             9  80s            93             5  \n",
       "2020-03-04           260            12  80s           108             6  \n",
       "2020-03-05           288            13  80s           124             7  \n",
       "2020-03-06           340            14  80s           168            10  \n",
       "\n",
       "[5 rows x 27 columns]"
      ]
     },
     "execution_count": 6,
     "metadata": {},
     "output_type": "execute_result"
    }
   ],
   "source": [
    "#processing of Dataframe TimeAge to make it easy to draw clear figures.\n",
    "Age0=TimeAge[TimeAge['age']=='0s']\n",
    "Age0=Age0.rename(columns={'confirmed':'confirmed_0s'})\n",
    "Age0=Age0.rename(columns={'deceased':'deceased_0s'})\n",
    "Age1=TimeAge[TimeAge['age']=='10s']\n",
    "Age1=Age1.rename(columns={'confirmed':'confirmed_10s'})\n",
    "Age1=Age1.rename(columns={'deceased':'deceased_10s'})\n",
    "Age2=TimeAge[TimeAge['age']=='20s']\n",
    "Age2=Age2.rename(columns={'confirmed':'confirmed_20s'})\n",
    "Age2=Age2.rename(columns={'deceased':'deceased_20s'})\n",
    "Age3=TimeAge[TimeAge['age']=='30s']\n",
    "Age3=Age3.rename(columns={'confirmed':'confirmed_30s'})\n",
    "Age3=Age3.rename(columns={'deceased':'deceased_30s'})\n",
    "Age4=TimeAge[TimeAge['age']=='40s']\n",
    "Age4=Age4.rename(columns={'confirmed':'confirmed_40s'})\n",
    "Age4=Age4.rename(columns={'deceased':'deceased_40s'})\n",
    "Age5=TimeAge[TimeAge['age']=='50s']\n",
    "Age5=Age5.rename(columns={'confirmed':'confirmed_50s'})\n",
    "Age5=Age5.rename(columns={'deceased':'deceased_50s'})\n",
    "Age6=TimeAge[TimeAge['age']=='60s']\n",
    "Age6=Age6.rename(columns={'confirmed':'confirmed_60s'})\n",
    "Age6=Age6.rename(columns={'deceased':'deceased_60s'})\n",
    "Age7=TimeAge[TimeAge['age']=='70s']\n",
    "Age7=Age7.rename(columns={'confirmed':'confirmed_70s'})\n",
    "Age7=Age7.rename(columns={'deceased':'deceased_70s'})\n",
    "Age8=TimeAge[TimeAge['age']=='80s']\n",
    "Age8=Age8.rename(columns={'confirmed':'confirmed_80s'})\n",
    "Age8=Age8.rename(columns={'deceased':'deceased_80s'})\n",
    "\n",
    "result = pd.merge(Age0, Age1, on='date')\n",
    "result=pd.merge(result, Age2, on='date')\n",
    "result=pd.merge(result, Age3, on='date')\n",
    "result=pd.merge(result, Age4, on='date')\n",
    "result=pd.merge(result, Age5, on='date')\n",
    "result=pd.merge(result, Age6, on='date')\n",
    "result=pd.merge(result, Age7, on='date')\n",
    "result=pd.merge(result, Age8, on='date')\n",
    "result.set_index(['date'],inplace=True)\n",
    "result.head(5)"
   ]
  },
  {
   "cell_type": "code",
   "execution_count": 163,
   "metadata": {},
   "outputs": [
    {
     "data": {
      "image/png": "[encoded data removed]",
      "text/plain": [
       "<Figure size 1152x720 with 1 Axes>"
      ]
     },
     "metadata": {
      "needs_background": "light"
     },
     "output_type": "display_data"
    }
   ],
   "source": [
    "fig, ax = plt.subplots(figsize=(16,10))\n",
    "result.plot(marker='o',ms=2,lw=1,ax=ax)\n",
    "fig.autofmt_xdate()\n",
    "plt.legend(bbox_to_anchor = [1,1])\n",
    "plt.title('COVID-19 Data of Different Ages',size=15)\n",
    "plt.ylabel('number')\n",
    "plt.grid(axis='y')\n",
    "plt.show()"
   ]
  },
  {
   "cell_type": "markdown",
   "metadata": {},
   "source": [
    "3. Visualize the File TimeGender"
   ]
  },
  {
   "cell_type": "code",
   "execution_count": 164,
   "metadata": {},
   "outputs": [
    {
     "data": {
      "text/html": [
       "<div>\n",
       "<style scoped>\n",
       "    .dataframe tbody tr th:only-of-type {\n",
       "        vertical-align: middle;\n",
       "    }\n",
       "\n",
       "    .dataframe tbody tr th {\n",
       "        vertical-align: top;\n",
       "    }\n",
       "\n",
       "    .dataframe thead th {\n",
       "        text-align: right;\n",
       "    }\n",
       "</style>\n",
       "<table border=\"1\" class=\"dataframe\">\n",
       "  <thead>\n",
       "    <tr style=\"text-align: right;\">\n",
       "      <th></th>\n",
       "      <th>date</th>\n",
       "      <th>time</th>\n",
       "      <th>sex</th>\n",
       "      <th>confirmed</th>\n",
       "      <th>deceased</th>\n",
       "    </tr>\n",
       "  </thead>\n",
       "  <tbody>\n",
       "    <tr>\n",
       "      <th>0</th>\n",
       "      <td>2020-03-02</td>\n",
       "      <td>0</td>\n",
       "      <td>male</td>\n",
       "      <td>1591</td>\n",
       "      <td>13</td>\n",
       "    </tr>\n",
       "    <tr>\n",
       "      <th>1</th>\n",
       "      <td>2020-03-02</td>\n",
       "      <td>0</td>\n",
       "      <td>female</td>\n",
       "      <td>2621</td>\n",
       "      <td>9</td>\n",
       "    </tr>\n",
       "    <tr>\n",
       "      <th>2</th>\n",
       "      <td>2020-03-03</td>\n",
       "      <td>0</td>\n",
       "      <td>male</td>\n",
       "      <td>1810</td>\n",
       "      <td>16</td>\n",
       "    </tr>\n",
       "    <tr>\n",
       "      <th>3</th>\n",
       "      <td>2020-03-03</td>\n",
       "      <td>0</td>\n",
       "      <td>female</td>\n",
       "      <td>3002</td>\n",
       "      <td>12</td>\n",
       "    </tr>\n",
       "    <tr>\n",
       "      <th>4</th>\n",
       "      <td>2020-03-04</td>\n",
       "      <td>0</td>\n",
       "      <td>male</td>\n",
       "      <td>1996</td>\n",
       "      <td>20</td>\n",
       "    </tr>\n",
       "  </tbody>\n",
       "</table>\n",
       "</div>"
      ],
      "text/plain": [
       "         date  time     sex  confirmed  deceased\n",
       "0  2020-03-02     0    male       1591        13\n",
       "1  2020-03-02     0  female       2621         9\n",
       "2  2020-03-03     0    male       1810        16\n",
       "3  2020-03-03     0  female       3002        12\n",
       "4  2020-03-04     0    male       1996        20"
      ]
     },
     "execution_count": 164,
     "metadata": {},
     "output_type": "execute_result"
    }
   ],
   "source": [
    "TimeGender = pd.read_csv('TimeGender.csv')\n",
    "TimeGender.head(5)"
   ]
  },
  {
   "cell_type": "code",
   "execution_count": 165,
   "metadata": {},
   "outputs": [
    {
     "data": {
      "text/html": [
       "<div>\n",
       "<style scoped>\n",
       "    .dataframe tbody tr th:only-of-type {\n",
       "        vertical-align: middle;\n",
       "    }\n",
       "\n",
       "    .dataframe tbody tr th {\n",
       "        vertical-align: top;\n",
       "    }\n",
       "\n",
       "    .dataframe thead th {\n",
       "        text-align: right;\n",
       "    }\n",
       "</style>\n",
       "<table border=\"1\" class=\"dataframe\">\n",
       "  <thead>\n",
       "    <tr style=\"text-align: right;\">\n",
       "      <th></th>\n",
       "      <th>sex_x</th>\n",
       "      <th>confirmed_female</th>\n",
       "      <th>deceased_female</th>\n",
       "      <th>sex_y</th>\n",
       "      <th>confirmed_male</th>\n",
       "      <th>deceased_male</th>\n",
       "    </tr>\n",
       "    <tr>\n",
       "      <th>date</th>\n",
       "      <th></th>\n",
       "      <th></th>\n",
       "      <th></th>\n",
       "      <th></th>\n",
       "      <th></th>\n",
       "      <th></th>\n",
       "    </tr>\n",
       "  </thead>\n",
       "  <tbody>\n",
       "    <tr>\n",
       "      <th>2020-03-02</th>\n",
       "      <td>female</td>\n",
       "      <td>2621</td>\n",
       "      <td>9</td>\n",
       "      <td>male</td>\n",
       "      <td>1591</td>\n",
       "      <td>13</td>\n",
       "    </tr>\n",
       "    <tr>\n",
       "      <th>2020-03-03</th>\n",
       "      <td>female</td>\n",
       "      <td>3002</td>\n",
       "      <td>12</td>\n",
       "      <td>male</td>\n",
       "      <td>1810</td>\n",
       "      <td>16</td>\n",
       "    </tr>\n",
       "    <tr>\n",
       "      <th>2020-03-04</th>\n",
       "      <td>female</td>\n",
       "      <td>3332</td>\n",
       "      <td>12</td>\n",
       "      <td>male</td>\n",
       "      <td>1996</td>\n",
       "      <td>20</td>\n",
       "    </tr>\n",
       "    <tr>\n",
       "      <th>2020-03-05</th>\n",
       "      <td>female</td>\n",
       "      <td>3617</td>\n",
       "      <td>14</td>\n",
       "      <td>male</td>\n",
       "      <td>2149</td>\n",
       "      <td>21</td>\n",
       "    </tr>\n",
       "    <tr>\n",
       "      <th>2020-03-06</th>\n",
       "      <td>female</td>\n",
       "      <td>3939</td>\n",
       "      <td>17</td>\n",
       "      <td>male</td>\n",
       "      <td>2345</td>\n",
       "      <td>25</td>\n",
       "    </tr>\n",
       "  </tbody>\n",
       "</table>\n",
       "</div>"
      ],
      "text/plain": [
       "             sex_x  confirmed_female  deceased_female sex_y  confirmed_male  \\\n",
       "date                                                                          \n",
       "2020-03-02  female              2621                9  male            1591   \n",
       "2020-03-03  female              3002               12  male            1810   \n",
       "2020-03-04  female              3332               12  male            1996   \n",
       "2020-03-05  female              3617               14  male            2149   \n",
       "2020-03-06  female              3939               17  male            2345   \n",
       "\n",
       "            deceased_male  \n",
       "date                       \n",
       "2020-03-02             13  \n",
       "2020-03-03             16  \n",
       "2020-03-04             20  \n",
       "2020-03-05             21  \n",
       "2020-03-06             25  "
      ]
     },
     "execution_count": 165,
     "metadata": {},
     "output_type": "execute_result"
    }
   ],
   "source": [
    "#The processing is the same as the one above.\n",
    "TimeGender.drop(['time'],axis=1,inplace=True)\n",
    "male=TimeGender[TimeGender['sex']=='male']\n",
    "male=male.rename(columns={'confirmed':'confirmed_male'})\n",
    "male=male.rename(columns={'deceased':'deceased_male'})\n",
    "female=TimeGender[TimeGender['sex']=='female']\n",
    "female=female.rename(columns={'confirmed':'confirmed_female'})\n",
    "female=female.rename(columns={'deceased':'deceased_female'})\n",
    "result = pd.merge(female ,male, on='date')\n",
    "result.set_index(['date'],inplace=True)\n",
    "result.head(5)"
   ]
  },
  {
   "cell_type": "code",
   "execution_count": 166,
   "metadata": {},
   "outputs": [
    {
     "data": {
      "image/png": "[encoded data removed]",
      "text/plain": [
       "<Figure size 1152x576 with 1 Axes>"
      ]
     },
     "metadata": {
      "needs_background": "light"
     },
     "output_type": "display_data"
    }
   ],
   "source": [
    "fig, ax = plt.subplots(figsize=(16,8))\n",
    "result.plot(marker='o',ms=2,lw=1,ax=ax)\n",
    "fig.autofmt_xdate()\n",
    "plt.legend(bbox_to_anchor = [1,1])\n",
    "plt.title('COVID-19 Data of Different Genders',size=15)\n",
    "plt.ylabel('number')\n",
    "plt.grid(axis='y')\n",
    "plt.show()"
   ]
  },
  {
   "cell_type": "markdown",
   "metadata": {},
   "source": [
    "4. Visualize the File TimeProvince"
   ]
  },
  {
   "cell_type": "code",
   "execution_count": 167,
   "metadata": {},
   "outputs": [
    {
     "data": {
      "text/html": [
       "<div>\n",
       "<style scoped>\n",
       "    .dataframe tbody tr th:only-of-type {\n",
       "        vertical-align: middle;\n",
       "    }\n",
       "\n",
       "    .dataframe tbody tr th {\n",
       "        vertical-align: top;\n",
       "    }\n",
       "\n",
       "    .dataframe thead th {\n",
       "        text-align: right;\n",
       "    }\n",
       "</style>\n",
       "<table border=\"1\" class=\"dataframe\">\n",
       "  <thead>\n",
       "    <tr style=\"text-align: right;\">\n",
       "      <th></th>\n",
       "      <th>date</th>\n",
       "      <th>time</th>\n",
       "      <th>province</th>\n",
       "      <th>confirmed</th>\n",
       "      <th>released</th>\n",
       "      <th>deceased</th>\n",
       "    </tr>\n",
       "  </thead>\n",
       "  <tbody>\n",
       "    <tr>\n",
       "      <th>0</th>\n",
       "      <td>2020-01-20</td>\n",
       "      <td>16</td>\n",
       "      <td>Seoul</td>\n",
       "      <td>0</td>\n",
       "      <td>0</td>\n",
       "      <td>0</td>\n",
       "    </tr>\n",
       "    <tr>\n",
       "      <th>1</th>\n",
       "      <td>2020-01-20</td>\n",
       "      <td>16</td>\n",
       "      <td>Busan</td>\n",
       "      <td>0</td>\n",
       "      <td>0</td>\n",
       "      <td>0</td>\n",
       "    </tr>\n",
       "    <tr>\n",
       "      <th>2</th>\n",
       "      <td>2020-01-20</td>\n",
       "      <td>16</td>\n",
       "      <td>Daegu</td>\n",
       "      <td>0</td>\n",
       "      <td>0</td>\n",
       "      <td>0</td>\n",
       "    </tr>\n",
       "    <tr>\n",
       "      <th>3</th>\n",
       "      <td>2020-01-20</td>\n",
       "      <td>16</td>\n",
       "      <td>Incheon</td>\n",
       "      <td>1</td>\n",
       "      <td>0</td>\n",
       "      <td>0</td>\n",
       "    </tr>\n",
       "    <tr>\n",
       "      <th>4</th>\n",
       "      <td>2020-01-20</td>\n",
       "      <td>16</td>\n",
       "      <td>Gwangju</td>\n",
       "      <td>0</td>\n",
       "      <td>0</td>\n",
       "      <td>0</td>\n",
       "    </tr>\n",
       "  </tbody>\n",
       "</table>\n",
       "</div>"
      ],
      "text/plain": [
       "         date  time province  confirmed  released  deceased\n",
       "0  2020-01-20    16    Seoul          0         0         0\n",
       "1  2020-01-20    16    Busan          0         0         0\n",
       "2  2020-01-20    16    Daegu          0         0         0\n",
       "3  2020-01-20    16  Incheon          1         0         0\n",
       "4  2020-01-20    16  Gwangju          0         0         0"
      ]
     },
     "execution_count": 167,
     "metadata": {},
     "output_type": "execute_result"
    }
   ],
   "source": [
    "TimeProvince=pd.read_csv('TimeProvince.csv')\n",
    "TimeProvince.head(5)"
   ]
  },
  {
   "cell_type": "code",
   "execution_count": 168,
   "metadata": {
    "scrolled": true
   },
   "outputs": [
    {
     "data": {
      "text/html": [
       "<div>\n",
       "<style scoped>\n",
       "    .dataframe tbody tr th:only-of-type {\n",
       "        vertical-align: middle;\n",
       "    }\n",
       "\n",
       "    .dataframe tbody tr th {\n",
       "        vertical-align: top;\n",
       "    }\n",
       "\n",
       "    .dataframe thead th {\n",
       "        text-align: right;\n",
       "    }\n",
       "</style>\n",
       "<table border=\"1\" class=\"dataframe\">\n",
       "  <thead>\n",
       "    <tr style=\"text-align: right;\">\n",
       "      <th></th>\n",
       "      <th>province_x</th>\n",
       "      <th>confirmed_Gyeongsangbuk-do</th>\n",
       "      <th>released_Gyeongsangbuk-do</th>\n",
       "      <th>deceased_Gyeongsangbuk-do</th>\n",
       "      <th>province_y</th>\n",
       "      <th>confirmed_Gyeonggi-do</th>\n",
       "      <th>released_Gyeonggi-do</th>\n",
       "      <th>deceased_Gyeonggi-do</th>\n",
       "      <th>province_x</th>\n",
       "      <th>confirmed_Seoul</th>\n",
       "      <th>released_Seoul</th>\n",
       "      <th>deceased_Seoul</th>\n",
       "      <th>province_y</th>\n",
       "      <th>confirmed_Chungcheongnam-do</th>\n",
       "      <th>released_Chungcheongnam-do</th>\n",
       "      <th>deceased_Chungcheongnam-do</th>\n",
       "      <th>province</th>\n",
       "      <th>confirmed_Busan</th>\n",
       "      <th>released_Busan</th>\n",
       "      <th>deceased_Busan</th>\n",
       "    </tr>\n",
       "    <tr>\n",
       "      <th>date</th>\n",
       "      <th></th>\n",
       "      <th></th>\n",
       "      <th></th>\n",
       "      <th></th>\n",
       "      <th></th>\n",
       "      <th></th>\n",
       "      <th></th>\n",
       "      <th></th>\n",
       "      <th></th>\n",
       "      <th></th>\n",
       "      <th></th>\n",
       "      <th></th>\n",
       "      <th></th>\n",
       "      <th></th>\n",
       "      <th></th>\n",
       "      <th></th>\n",
       "      <th></th>\n",
       "      <th></th>\n",
       "      <th></th>\n",
       "      <th></th>\n",
       "    </tr>\n",
       "  </thead>\n",
       "  <tbody>\n",
       "    <tr>\n",
       "      <th>2020-01-20</th>\n",
       "      <td>Gyeongsangbuk-do</td>\n",
       "      <td>0</td>\n",
       "      <td>0</td>\n",
       "      <td>0</td>\n",
       "      <td>Gyeonggi-do</td>\n",
       "      <td>0</td>\n",
       "      <td>0</td>\n",
       "      <td>0</td>\n",
       "      <td>Seoul</td>\n",
       "      <td>0</td>\n",
       "      <td>0</td>\n",
       "      <td>0</td>\n",
       "      <td>Chungcheongnam-do</td>\n",
       "      <td>0</td>\n",
       "      <td>0</td>\n",
       "      <td>0</td>\n",
       "      <td>Busan</td>\n",
       "      <td>0</td>\n",
       "      <td>0</td>\n",
       "      <td>0</td>\n",
       "    </tr>\n",
       "    <tr>\n",
       "      <th>2020-01-21</th>\n",
       "      <td>Gyeongsangbuk-do</td>\n",
       "      <td>0</td>\n",
       "      <td>0</td>\n",
       "      <td>0</td>\n",
       "      <td>Gyeonggi-do</td>\n",
       "      <td>0</td>\n",
       "      <td>0</td>\n",
       "      <td>0</td>\n",
       "      <td>Seoul</td>\n",
       "      <td>0</td>\n",
       "      <td>0</td>\n",
       "      <td>0</td>\n",
       "      <td>Chungcheongnam-do</td>\n",
       "      <td>0</td>\n",
       "      <td>0</td>\n",
       "      <td>0</td>\n",
       "      <td>Busan</td>\n",
       "      <td>0</td>\n",
       "      <td>0</td>\n",
       "      <td>0</td>\n",
       "    </tr>\n",
       "    <tr>\n",
       "      <th>2020-01-22</th>\n",
       "      <td>Gyeongsangbuk-do</td>\n",
       "      <td>0</td>\n",
       "      <td>0</td>\n",
       "      <td>0</td>\n",
       "      <td>Gyeonggi-do</td>\n",
       "      <td>0</td>\n",
       "      <td>0</td>\n",
       "      <td>0</td>\n",
       "      <td>Seoul</td>\n",
       "      <td>0</td>\n",
       "      <td>0</td>\n",
       "      <td>0</td>\n",
       "      <td>Chungcheongnam-do</td>\n",
       "      <td>0</td>\n",
       "      <td>0</td>\n",
       "      <td>0</td>\n",
       "      <td>Busan</td>\n",
       "      <td>0</td>\n",
       "      <td>0</td>\n",
       "      <td>0</td>\n",
       "    </tr>\n",
       "    <tr>\n",
       "      <th>2020-01-23</th>\n",
       "      <td>Gyeongsangbuk-do</td>\n",
       "      <td>0</td>\n",
       "      <td>0</td>\n",
       "      <td>0</td>\n",
       "      <td>Gyeonggi-do</td>\n",
       "      <td>0</td>\n",
       "      <td>0</td>\n",
       "      <td>0</td>\n",
       "      <td>Seoul</td>\n",
       "      <td>0</td>\n",
       "      <td>0</td>\n",
       "      <td>0</td>\n",
       "      <td>Chungcheongnam-do</td>\n",
       "      <td>0</td>\n",
       "      <td>0</td>\n",
       "      <td>0</td>\n",
       "      <td>Busan</td>\n",
       "      <td>0</td>\n",
       "      <td>0</td>\n",
       "      <td>0</td>\n",
       "    </tr>\n",
       "    <tr>\n",
       "      <th>2020-01-24</th>\n",
       "      <td>Gyeongsangbuk-do</td>\n",
       "      <td>0</td>\n",
       "      <td>0</td>\n",
       "      <td>0</td>\n",
       "      <td>Gyeonggi-do</td>\n",
       "      <td>1</td>\n",
       "      <td>0</td>\n",
       "      <td>0</td>\n",
       "      <td>Seoul</td>\n",
       "      <td>0</td>\n",
       "      <td>0</td>\n",
       "      <td>0</td>\n",
       "      <td>Chungcheongnam-do</td>\n",
       "      <td>0</td>\n",
       "      <td>0</td>\n",
       "      <td>0</td>\n",
       "      <td>Busan</td>\n",
       "      <td>0</td>\n",
       "      <td>0</td>\n",
       "      <td>0</td>\n",
       "    </tr>\n",
       "  </tbody>\n",
       "</table>\n",
       "</div>"
      ],
      "text/plain": [
       "                  province_x  confirmed_Gyeongsangbuk-do  \\\n",
       "date                                                       \n",
       "2020-01-20  Gyeongsangbuk-do                           0   \n",
       "2020-01-21  Gyeongsangbuk-do                           0   \n",
       "2020-01-22  Gyeongsangbuk-do                           0   \n",
       "2020-01-23  Gyeongsangbuk-do                           0   \n",
       "2020-01-24  Gyeongsangbuk-do                           0   \n",
       "\n",
       "            released_Gyeongsangbuk-do  deceased_Gyeongsangbuk-do   province_y  \\\n",
       "date                                                                            \n",
       "2020-01-20                          0                          0  Gyeonggi-do   \n",
       "2020-01-21                          0                          0  Gyeonggi-do   \n",
       "2020-01-22                          0                          0  Gyeonggi-do   \n",
       "2020-01-23                          0                          0  Gyeonggi-do   \n",
       "2020-01-24                          0                          0  Gyeonggi-do   \n",
       "\n",
       "            confirmed_Gyeonggi-do  released_Gyeonggi-do  deceased_Gyeonggi-do  \\\n",
       "date                                                                            \n",
       "2020-01-20                      0                     0                     0   \n",
       "2020-01-21                      0                     0                     0   \n",
       "2020-01-22                      0                     0                     0   \n",
       "2020-01-23                      0                     0                     0   \n",
       "2020-01-24                      1                     0                     0   \n",
       "\n",
       "           province_x  confirmed_Seoul  released_Seoul  deceased_Seoul  \\\n",
       "date                                                                     \n",
       "2020-01-20      Seoul                0               0               0   \n",
       "2020-01-21      Seoul                0               0               0   \n",
       "2020-01-22      Seoul                0               0               0   \n",
       "2020-01-23      Seoul                0               0               0   \n",
       "2020-01-24      Seoul                0               0               0   \n",
       "\n",
       "                   province_y  confirmed_Chungcheongnam-do  \\\n",
       "date                                                         \n",
       "2020-01-20  Chungcheongnam-do                            0   \n",
       "2020-01-21  Chungcheongnam-do                            0   \n",
       "2020-01-22  Chungcheongnam-do                            0   \n",
       "2020-01-23  Chungcheongnam-do                            0   \n",
       "2020-01-24  Chungcheongnam-do                            0   \n",
       "\n",
       "            released_Chungcheongnam-do  deceased_Chungcheongnam-do province  \\\n",
       "date                                                                          \n",
       "2020-01-20                           0                           0    Busan   \n",
       "2020-01-21                           0                           0    Busan   \n",
       "2020-01-22                           0                           0    Busan   \n",
       "2020-01-23                           0                           0    Busan   \n",
       "2020-01-24                           0                           0    Busan   \n",
       "\n",
       "            confirmed_Busan  released_Busan  deceased_Busan  \n",
       "date                                                         \n",
       "2020-01-20                0               0               0  \n",
       "2020-01-21                0               0               0  \n",
       "2020-01-22                0               0               0  \n",
       "2020-01-23                0               0               0  \n",
       "2020-01-24                0               0               0  "
      ]
     },
     "execution_count": 168,
     "metadata": {},
     "output_type": "execute_result"
    }
   ],
   "source": [
    "#It will be a mass if we draw the imformatin of all provinces, so we choose to draw the figure of the top 5 provinces with most patients.\n",
    "TimeProvince.drop(['time'],axis=1,inplace=True)\n",
    "p1=TimeProvince[TimeProvince['province']=='Gyeongsangbuk-do']\n",
    "p1=p1.rename(columns={'confirmed':'confirmed_Gyeongsangbuk-do'})\n",
    "p1=p1.rename(columns={'released':'released_Gyeongsangbuk-do'})\n",
    "p1=p1.rename(columns={'deceased':'deceased_Gyeongsangbuk-do'})\n",
    "p2=TimeProvince[TimeProvince['province']=='Gyeonggi-do']\n",
    "p2=p2.rename(columns={'confirmed':'confirmed_Gyeonggi-do'})\n",
    "p2=p2.rename(columns={'released':'released_Gyeonggi-do'})\n",
    "p2=p2.rename(columns={'deceased':'deceased_Gyeonggi-do'})\n",
    "p3=TimeProvince[TimeProvince['province']=='Seoul']\n",
    "p3=p3.rename(columns={'confirmed':'confirmed_Seoul'})\n",
    "p3=p3.rename(columns={'released':'released_Seoul'})\n",
    "p3=p3.rename(columns={'deceased':'deceased_Seoul'})\n",
    "p4=TimeProvince[TimeProvince['province']=='Chungcheongnam-do']\n",
    "p4=p4.rename(columns={'confirmed':'confirmed_Chungcheongnam-do'})\n",
    "p4=p4.rename(columns={'released':'released_Chungcheongnam-do'})\n",
    "p4=p4.rename(columns={'deceased':'deceased_Chungcheongnam-do'})\n",
    "p5=TimeProvince[TimeProvince['province']=='Busan']\n",
    "p5=p5.rename(columns={'confirmed':'confirmed_Busan'})\n",
    "p5=p5.rename(columns={'released':'released_Busan'})\n",
    "p5=p5.rename(columns={'deceased':'deceased_Busan'})\n",
    "result = pd.merge(p1,p2, on='date')\n",
    "result = pd.merge(result,p3, on='date')\n",
    "result = pd.merge(result,p4, on='date')\n",
    "result = pd.merge(result,p5, on='date')\n",
    "result.set_index(['date'],inplace=True)\n",
    "result.head(5)"
   ]
  },
  {
   "cell_type": "code",
   "execution_count": 169,
   "metadata": {},
   "outputs": [
    {
     "data": {
      "image/png": "[encoded data removed]",
      "text/plain": [
       "<Figure size 1152x720 with 1 Axes>"
      ]
     },
     "metadata": {
      "needs_background": "light"
     },
     "output_type": "display_data"
    }
   ],
   "source": [
    "fig, ax = plt.subplots(figsize=(16,10))\n",
    "result.plot(marker='o',ms=2,lw=1,ax=ax)\n",
    "fig.autofmt_xdate()\n",
    "plt.legend(bbox_to_anchor = [1,1])\n",
    "plt.title('COVID-19 Data of Different Provinces',size=15)\n",
    "plt.ylabel('number')\n",
    "plt.grid(axis='y')\n",
    "plt.show()"
   ]
  },
  {
   "cell_type": "markdown",
   "metadata": {},
   "source": [
    "**Conclusion:**\n",
    "\n",
    "Through these time series figures, I find that from February 22, 2020, South Korea began to increase the number of daily tests, and the number of newly diagnosed people in South Korea also increased rapidly. The most newly confirmed patients are in the age group 20s and 50s. There are more newly diagnosed female patients than male patients.A large number of newly confirmed cases came from the province of Gyeongsangbuk-do, and the number of newly confirmed diagnoses in other provinces gradually increased a few days later.\n",
    "\n",
    "### 2.2 Prediction of the Recovery Time of the Patients\n",
    "#### 2.2.1 Data Preprocessing "
   ]
  },
  {
   "cell_type": "code",
   "execution_count": 11,
   "metadata": {
    "scrolled": true
   },
   "outputs": [
    {
     "name": "stdout",
     "output_type": "stream",
     "text": [
      "patient_id               0\n",
      "global_num            1160\n",
      "sex                     94\n",
      "birth_year             464\n",
      "age                    105\n",
      "country                 90\n",
      "province                 0\n",
      "city                    76\n",
      "disease               3110\n",
      "infection_case         819\n",
      "infection_order       3097\n",
      "infected_by           2393\n",
      "contact_number        2539\n",
      "symptom_onset_date    2682\n",
      "confirmed_date           0\n",
      "released_date         2147\n",
      "deceased_date         3072\n",
      "state                    0\n",
      "dtype: int64\n",
      "3128\n"
     ]
    }
   ],
   "source": [
    "#count miss value of each column\n",
    "index_array = np.sum(PatientInfo.isnull() == True, axis=0)\n",
    "print(index_array)\n",
    "print(PatientInfo.shape[0])"
   ]
  },
  {
   "cell_type": "markdown",
   "metadata": {},
   "source": [
    "I want to build a regression model to predict of the recovery time of the patients.\n",
    "\n",
    "Firstly I do data preprocessing to the data. \n",
    "It is easy to define the ‘recovery time’ as the difference between ‘released_date’ and ‘confirmed_date’.\n",
    "For the ‘deceased’patients,I choose to simply delete it in this task and I will find the rows that released_date is not null\n",
    "and calculte the recovery time and join the table with the table Region to get more information.\n",
    "\n",
    "Finally I will delete some useless column and do some data coding and discretization and normalization."
   ]
  },
  {
   "cell_type": "code",
   "execution_count": 12,
   "metadata": {},
   "outputs": [
    {
     "name": "stdout",
     "output_type": "stream",
     "text": [
      "patient_id                    0\n",
      "global_num                  357\n",
      "sex                           0\n",
      "birth_year                  130\n",
      "age                           2\n",
      "country                       0\n",
      "province                      0\n",
      "city                          0\n",
      "disease                     952\n",
      "infection_case              451\n",
      "infection_order             926\n",
      "infected_by                 759\n",
      "contact_number              724\n",
      "symptom_onset_date          857\n",
      "confirmed_date                0\n",
      "released_date                 0\n",
      "deceased_date               952\n",
      "state                         0\n",
      "recover_days                  0\n",
      "code                          0\n",
      "latitude                      0\n",
      "longitude                     0\n",
      "elementary_school_count       0\n",
      "kindergarten_count            0\n",
      "university_count              0\n",
      "academy_ratio                 0\n",
      "elderly_population_ratio      0\n",
      "elderly_alone_ratio           0\n",
      "nursing_home_count            0\n",
      "dtype: int64\n"
     ]
    }
   ],
   "source": [
    "data_released = PatientInfo[PatientInfo['released_date'].notnull()]\n",
    "data_released=data_released[data_released['state']=='released']\n",
    "data_released['recover_days']=(pd.to_datetime(data_released['released_date'])-pd.to_datetime(data_released['confirmed_date'])).dt.days\n",
    "Region=pd.read_csv('Region.csv')\n",
    "result = pd.merge(data_released,Region, on=['city','province'])\n",
    "#count miss value of each column of the new table\n",
    "index_array = np.sum(result.isnull() == True, axis=0)\n",
    "print(index_array)"
   ]
  },
  {
   "cell_type": "markdown",
   "metadata": {},
   "source": [
    "We notice that some columns with too much miss value should be ignored. Since birth_year is more accurate than age, we choose to fill the miss value in age and then use age to fill birth_year with media value i.e. 20s will be considered as 25 years old and then \n",
    "we use 2020-25 to calculate his birth_year."
   ]
  },
  {
   "cell_type": "code",
   "execution_count": 13,
   "metadata": {},
   "outputs": [
    {
     "data": {
      "text/plain": [
       "20s    251\n",
       "50s    195\n",
       "40s    165\n",
       "30s    119\n",
       "60s     95\n",
       "10s     43\n",
       "70s     39\n",
       "80s     21\n",
       "0s      13\n",
       "90s      9\n",
       "Name: age, dtype: int64"
      ]
     },
     "execution_count": 13,
     "metadata": {},
     "output_type": "execute_result"
    }
   ],
   "source": [
    "age=result['age'].value_counts()\n",
    "age= age.sort_values(ascending=False)[:10]\n",
    "age"
   ]
  },
  {
   "cell_type": "code",
   "execution_count": 14,
   "metadata": {},
   "outputs": [
    {
     "name": "stdout",
     "output_type": "stream",
     "text": [
      "patient_id                    0\n",
      "global_num                  357\n",
      "sex                           0\n",
      "birth_year                    0\n",
      "age                           0\n",
      "country                       0\n",
      "province                      0\n",
      "city                          0\n",
      "disease                     952\n",
      "infection_case              451\n",
      "infection_order             926\n",
      "infected_by                 759\n",
      "contact_number              724\n",
      "symptom_onset_date          857\n",
      "confirmed_date                0\n",
      "released_date                 0\n",
      "deceased_date               952\n",
      "state                         0\n",
      "recover_days                  0\n",
      "code                          0\n",
      "latitude                      0\n",
      "longitude                     0\n",
      "elementary_school_count       0\n",
      "kindergarten_count            0\n",
      "university_count              0\n",
      "academy_ratio                 0\n",
      "elderly_population_ratio      0\n",
      "elderly_alone_ratio           0\n",
      "nursing_home_count            0\n",
      "age_int                       0\n",
      "dtype: int64\n"
     ]
    }
   ],
   "source": [
    "#fill the miss value of the column age with mode '20s'\n",
    "result['age'] = result['age'].fillna('20s')\n",
    "result['age_int']=result['age'].apply(lambda x: (int)(x[0:1]))\n",
    "result['birth_year']=result['birth_year'].fillna(2020-5-result['age_int']*10)\n",
    "index_array = np.sum(result.isnull() == True, axis=0)\n",
    "print(index_array)"
   ]
  },
  {
   "cell_type": "markdown",
   "metadata": {},
   "source": [
    "I find that there is no miss value in the columns that will be used later. Then I will normalize the data and encode the column sex."
   ]
  },
  {
   "cell_type": "code",
   "execution_count": 15,
   "metadata": {},
   "outputs": [
    {
     "data": {
      "text/html": [
       "<div>\n",
       "<style scoped>\n",
       "    .dataframe tbody tr th:only-of-type {\n",
       "        vertical-align: middle;\n",
       "    }\n",
       "\n",
       "    .dataframe tbody tr th {\n",
       "        vertical-align: top;\n",
       "    }\n",
       "\n",
       "    .dataframe thead th {\n",
       "        text-align: right;\n",
       "    }\n",
       "</style>\n",
       "<table border=\"1\" class=\"dataframe\">\n",
       "  <thead>\n",
       "    <tr style=\"text-align: right;\">\n",
       "      <th></th>\n",
       "      <th>birth_year</th>\n",
       "      <th>elementary_school_count</th>\n",
       "      <th>kindergarten_count</th>\n",
       "      <th>university_count</th>\n",
       "      <th>academy_ratio</th>\n",
       "      <th>elderly_population_ratio</th>\n",
       "      <th>latitude</th>\n",
       "      <th>longitude</th>\n",
       "      <th>elderly_alone_ratio</th>\n",
       "      <th>nursing_home_count</th>\n",
       "      <th>age_int</th>\n",
       "      <th>sex</th>\n",
       "      <th>recover_days</th>\n",
       "    </tr>\n",
       "  </thead>\n",
       "  <tbody>\n",
       "    <tr>\n",
       "      <th>0</th>\n",
       "      <td>0.410526</td>\n",
       "      <td>0.293578</td>\n",
       "      <td>0.268421</td>\n",
       "      <td>0.1</td>\n",
       "      <td>0.212042</td>\n",
       "      <td>0.243018</td>\n",
       "      <td>0.860991</td>\n",
       "      <td>0.134585</td>\n",
       "      <td>0.143713</td>\n",
       "      <td>0.339691</td>\n",
       "      <td>0.555556</td>\n",
       "      <td>0</td>\n",
       "      <td>13</td>\n",
       "    </tr>\n",
       "    <tr>\n",
       "      <th>1</th>\n",
       "      <td>0.452632</td>\n",
       "      <td>0.293578</td>\n",
       "      <td>0.268421</td>\n",
       "      <td>0.1</td>\n",
       "      <td>0.212042</td>\n",
       "      <td>0.243018</td>\n",
       "      <td>0.860991</td>\n",
       "      <td>0.134585</td>\n",
       "      <td>0.143713</td>\n",
       "      <td>0.339691</td>\n",
       "      <td>0.555556</td>\n",
       "      <td>0</td>\n",
       "      <td>10</td>\n",
       "    </tr>\n",
       "    <tr>\n",
       "      <th>2</th>\n",
       "      <td>0.652632</td>\n",
       "      <td>0.174312</td>\n",
       "      <td>0.136842</td>\n",
       "      <td>0.1</td>\n",
       "      <td>0.089005</td>\n",
       "      <td>0.324991</td>\n",
       "      <td>0.872790</td>\n",
       "      <td>0.216556</td>\n",
       "      <td>0.215569</td>\n",
       "      <td>0.211115</td>\n",
       "      <td>0.333333</td>\n",
       "      <td>0</td>\n",
       "      <td>32</td>\n",
       "    </tr>\n",
       "    <tr>\n",
       "      <th>3</th>\n",
       "      <td>0.410526</td>\n",
       "      <td>0.082569</td>\n",
       "      <td>0.063158</td>\n",
       "      <td>0.3</td>\n",
       "      <td>0.353403</td>\n",
       "      <td>0.383750</td>\n",
       "      <td>0.865619</td>\n",
       "      <td>0.178304</td>\n",
       "      <td>0.209581</td>\n",
       "      <td>0.204209</td>\n",
       "      <td>0.555556</td>\n",
       "      <td>0</td>\n",
       "      <td>20</td>\n",
       "    </tr>\n",
       "    <tr>\n",
       "      <th>4</th>\n",
       "      <td>0.431579</td>\n",
       "      <td>0.082569</td>\n",
       "      <td>0.063158</td>\n",
       "      <td>0.3</td>\n",
       "      <td>0.353403</td>\n",
       "      <td>0.383750</td>\n",
       "      <td>0.865619</td>\n",
       "      <td>0.178304</td>\n",
       "      <td>0.209581</td>\n",
       "      <td>0.204209</td>\n",
       "      <td>0.555556</td>\n",
       "      <td>1</td>\n",
       "      <td>19</td>\n",
       "    </tr>\n",
       "  </tbody>\n",
       "</table>\n",
       "</div>"
      ],
      "text/plain": [
       "   birth_year  elementary_school_count  kindergarten_count  university_count  \\\n",
       "0    0.410526                 0.293578            0.268421               0.1   \n",
       "1    0.452632                 0.293578            0.268421               0.1   \n",
       "2    0.652632                 0.174312            0.136842               0.1   \n",
       "3    0.410526                 0.082569            0.063158               0.3   \n",
       "4    0.431579                 0.082569            0.063158               0.3   \n",
       "\n",
       "   academy_ratio  elderly_population_ratio  latitude  longitude  \\\n",
       "0       0.212042                  0.243018  0.860991   0.134585   \n",
       "1       0.212042                  0.243018  0.860991   0.134585   \n",
       "2       0.089005                  0.324991  0.872790   0.216556   \n",
       "3       0.353403                  0.383750  0.865619   0.178304   \n",
       "4       0.353403                  0.383750  0.865619   0.178304   \n",
       "\n",
       "   elderly_alone_ratio  nursing_home_count   age_int  sex  recover_days  \n",
       "0             0.143713            0.339691  0.555556    0            13  \n",
       "1             0.143713            0.339691  0.555556    0            10  \n",
       "2             0.215569            0.211115  0.333333    0            32  \n",
       "3             0.209581            0.204209  0.555556    0            20  \n",
       "4             0.209581            0.204209  0.555556    1            19  "
      ]
     },
     "execution_count": 15,
     "metadata": {},
     "output_type": "execute_result"
    }
   ],
   "source": [
    "col=['birth_year','elementary_school_count','kindergarten_count','university_count','academy_ratio','elderly_population_ratio',\n",
    "    'latitude','longitude','elderly_alone_ratio','nursing_home_count','age_int']\n",
    "temp=result[col]\n",
    "#using min-max normalization\n",
    "data_pca=temp\n",
    "temp = (temp-temp.min())/(temp.max()-temp.min())\n",
    "Map={'male':0,'female':1}\n",
    "temp['sex']=result['sex']\n",
    "temp['sex'] = temp['sex'].map(Map)\n",
    "temp['recover_days']=result['recover_days']\n",
    "temp['birth_year']=temp['birth_year']\n",
    "temp.head(5)"
   ]
  },
  {
   "cell_type": "markdown",
   "metadata": {},
   "source": [
    "#### 2.2.2 Data Prediction\n",
    "It is well known that how long a confirmed patient will recover mainly depends on his physical health condition and whether he has other underlying diseases. We do not have any data on the health indicators of patients, so it is very hard to build an accurate model.\n",
    "\n",
    "I will compare some models to see how they work on this dataset.\n",
    "\n",
    "Firstly I will divide the samples into training set and test set and the test set accounted for 30%."
   ]
  },
  {
   "cell_type": "code",
   "execution_count": 36,
   "metadata": {},
   "outputs": [],
   "source": [
    "y = temp['recover_days']\n",
    "X = temp.copy().drop(['recover_days'], axis=1)\n",
    "X_train, X_test, y_train, y_test = train_test_split(X, y, test_size = 0.3,random_state=33)"
   ]
  },
  {
   "cell_type": "code",
   "execution_count": 37,
   "metadata": {},
   "outputs": [
    {
     "name": "stdout",
     "output_type": "stream",
     "text": [
      "R_square_value: \n",
      "0.077\n",
      "MSE_value: \n",
      "52.682\n"
     ]
    }
   ],
   "source": [
    "#1.LinearRegression\n",
    "lr = LinearRegression()\n",
    "lr.fit(X_train, y_train)\n",
    "predicted = lr.predict(X_test)\n",
    "print('R_square_value: ')\n",
    "print(round(r2_score(y_test, predicted),3))\n",
    "print( 'MSE_value: ')\n",
    "print(round(mean_squared_error(y_test, predicted),3))"
   ]
  },
  {
   "cell_type": "code",
   "execution_count": 177,
   "metadata": {},
   "outputs": [
    {
     "name": "stdout",
     "output_type": "stream",
     "text": [
      "R_square_value: \n",
      "0.0785\n",
      "MSE_value: \n",
      "52.6262\n"
     ]
    }
   ],
   "source": [
    "#2.RidgeRegression\n",
    "model = RidgeCV(alphas=[0.5,0.6,0.7,0.8,0.9,0.4,0.3,0.1,0.2,1])\n",
    "model.fit(X_train,y_train)\n",
    "predicted = model.predict(X_test)\n",
    "print('R_square_value: ')\n",
    "print(round(r2_score(y_test, predicted),4))\n",
    "print( 'MSE_value: ')\n",
    "print(round(mean_squared_error(y_test, predicted),4))"
   ]
  },
  {
   "cell_type": "code",
   "execution_count": 178,
   "metadata": {},
   "outputs": [
    {
     "name": "stdout",
     "output_type": "stream",
     "text": [
      "R_square_value: \n",
      "0.0804\n",
      "MSE_value: \n",
      "52.5148\n"
     ]
    }
   ],
   "source": [
    "#3.LassoRegression\n",
    "model = LassoLarsCV()  # LassoLarsCV自动调节alpha可以实现选择最佳的alpha\n",
    "model.fit(X_train,y_train) \n",
    "predicted = model.predict(X_test)\n",
    "print('R_square_value: ')\n",
    "print(round(r2_score(y_test, predicted),4))\n",
    "print( 'MSE_value: ')\n",
    "print(round(mean_squared_error(y_test, predicted),4))"
   ]
  },
  {
   "cell_type": "code",
   "execution_count": 179,
   "metadata": {},
   "outputs": [
    {
     "name": "stdout",
     "output_type": "stream",
     "text": [
      "R_square_value: \n",
      "0.055\n",
      "MSE_value: \n",
      "53.9639\n"
     ]
    }
   ],
   "source": [
    "#4.Assembled model: GradientBoostingRegressor\n",
    "gbr=GradientBoostingRegressor()\n",
    "gbr.fit(X_train,y_train)\n",
    "predicted=gbr.predict(X_test)\n",
    "print('R_square_value: ')\n",
    "print(round(r2_score(y_test, predicted),4))\n",
    "print( 'MSE_value: ')\n",
    "print(round(mean_squared_error(y_test, predicted),4))"
   ]
  },
  {
   "cell_type": "markdown",
   "metadata": {},
   "source": [
    "**Conclusion:**\n",
    "\n",
    "I find that no model is accurate because the most important information i.e. physical health condition and whether he has other underlying diseases is unknown.\n",
    "\n",
    "Comparing the four models, I find that the Assembled model did worst because it may be overfitting in this dataset.\n",
    "\n",
    "In the other three models, LassoRegression did best because it uses LASSO Regression with L1 form which has a very good variable selection effect.\n",
    "\n",
    "RidgeRegression uses Ridge Regression with L2 form which has a good variable selection effect so it did better than LinearRegression\n",
    "but it did worse than LassoRegression.\n",
    "\n",
    "The LinearRegression did worst in the three models without assembling because it did not use Regression to solve multicollinearity.\n",
    "\n",
    "#### 2.2.3 Feature Selection and Model Selection\n",
    "\n",
    "We know that not all features in the dataset will affect the recover time of a patient and some columns may have multicollinearity\n",
    "and some columns maybe unrelated to the recover time.\n",
    "\n",
    "A method to choose feature is using iteration and the greedy algorithm. In other words, we choose subset of the features and build\n",
    "a model on the training set and then test the model on the test set. If the model works better than the prvious one, we keep the \n",
    "selection, otherwise we reselect features and build models aga until the model will not be impoved by selecting features.\n",
    "\n",
    "However, greedy algorithm can find a better model but the result may be not a global optimum solution because it may be \n",
    "stuck in a local optimum solution.\n",
    "\n",
    "The followings are the new model I built after variable selection."
   ]
  },
  {
   "cell_type": "code",
   "execution_count": 180,
   "metadata": {
    "scrolled": true
   },
   "outputs": [],
   "source": [
    "# Divide the samples into training set and test set. \n",
    "col1=['elementary_school_count','elderly_population_ratio',\n",
    "    'latitude','elderly_alone_ratio','nursing_home_count','age_int','recover_days']\n",
    "temp1=result[col1]\n",
    "y = temp1['recover_days']\n",
    "X = temp1.drop(['recover_days'], axis=1)\n",
    "X_train, X_test, y_train, y_test = train_test_split(X, y, test_size = 0.3,random_state=33)"
   ]
  },
  {
   "cell_type": "code",
   "execution_count": 181,
   "metadata": {},
   "outputs": [
    {
     "name": "stdout",
     "output_type": "stream",
     "text": [
      "R_square_value: \n",
      "0.09\n",
      "MSE_value: \n",
      "51.953\n"
     ]
    }
   ],
   "source": [
    "#1.LinearRegression\n",
    "lr = LinearRegression()\n",
    "lr.fit(X_train, y_train)\n",
    "predicted = lr.predict(X_test)\n",
    "print('R_square_value: ')\n",
    "print(round(r2_score(y_test, predicted),3))\n",
    "print( 'MSE_value: ')\n",
    "print(round(mean_squared_error(y_test, predicted),3))"
   ]
  },
  {
   "cell_type": "code",
   "execution_count": 182,
   "metadata": {},
   "outputs": [
    {
     "name": "stdout",
     "output_type": "stream",
     "text": [
      "R_square_value: \n",
      "0.0902\n",
      "MSE_value: \n",
      "51.9557\n"
     ]
    }
   ],
   "source": [
    "#2.RidgeRegression\n",
    "model = RidgeCV(alphas=[0.5,0.6,0.7,0.8,0.9,0.4,0.3,0.1,0.2,1])\n",
    "model.fit(X_train,y_train)\n",
    "predicted = model.predict(X_test)\n",
    "print('R_square_value: ')\n",
    "print(round(r2_score(y_test, predicted),4))\n",
    "print( 'MSE_value: ')\n",
    "print(round(mean_squared_error(y_test, predicted),4))"
   ]
  },
  {
   "cell_type": "code",
   "execution_count": 183,
   "metadata": {},
   "outputs": [
    {
     "name": "stdout",
     "output_type": "stream",
     "text": [
      "R_square_value: \n",
      "0.0903\n",
      "MSE_value: \n",
      "51.9525\n"
     ]
    }
   ],
   "source": [
    "#3.LassoRegression\n",
    "model = LassoLarsCV()  # LassoLarsCV自动调节alpha可以实现选择最佳的alpha\n",
    "model.fit(X_train,y_train) \n",
    "predicted = model.predict(X_test)\n",
    "print('R_square_value: ')\n",
    "print(round(r2_score(y_test, predicted),4))\n",
    "print( 'MSE_value: ')\n",
    "print(round(mean_squared_error(y_test, predicted),4))"
   ]
  },
  {
   "cell_type": "code",
   "execution_count": 33,
   "metadata": {},
   "outputs": [
    {
     "name": "stdout",
     "output_type": "stream",
     "text": [
      "R_square_value: \n",
      "0.1109\n",
      "MSE_value: \n",
      "50.7721\n"
     ]
    }
   ],
   "source": [
    "#Assembled model: GradientBoostingRegressor\n",
    "col2=['elementary_school_count',\n",
    "    'latitude','elderly_alone_ratio','age_int','recover_days']\n",
    "temp2=result[col2]\n",
    "y = temp2['recover_days']\n",
    "X = temp2.drop(['recover_days'], axis=1)\n",
    "X_train, X_test, y_train, y_test = train_test_split(X, y, test_size = 0.3,random_state=33)\n",
    "gbr=GradientBoostingRegressor()\n",
    "gbr.fit(X_train,y_train)\n",
    "predicted=gbr.predict(X_test)\n",
    "print('R_square_value: ')\n",
    "print(round(r2_score(y_test, predicted),4))\n",
    "print( 'MSE_value: ')\n",
    "print(round(mean_squared_error(y_test, predicted),4))"
   ]
  },
  {
   "cell_type": "markdown",
   "metadata": {},
   "source": [
    "**Conclusion:**\n",
    "\n",
    "By using feature selection, It is obvious that the R_square_value of the four models all increase and the MSE_value of the four models\n",
    "all decrease which means the four models are all improved.\n",
    "\n",
    "The best model is the Assembled model: GradientBoostingRegressor because its R_square_value is maximal and its MSE_value is minimal.\n",
    "However, the assembled model has poor interpretability.\n",
    "\n",
    "#### 2.2.4 Using PCA to Do Data Preprocessing "
   ]
  },
  {
   "cell_type": "code",
   "execution_count": 16,
   "metadata": {},
   "outputs": [
    {
     "data": {
      "text/html": [
       "<div>\n",
       "<style scoped>\n",
       "    .dataframe tbody tr th:only-of-type {\n",
       "        vertical-align: middle;\n",
       "    }\n",
       "\n",
       "    .dataframe tbody tr th {\n",
       "        vertical-align: top;\n",
       "    }\n",
       "\n",
       "    .dataframe thead th {\n",
       "        text-align: right;\n",
       "    }\n",
       "</style>\n",
       "<table border=\"1\" class=\"dataframe\">\n",
       "  <thead>\n",
       "    <tr style=\"text-align: right;\">\n",
       "      <th></th>\n",
       "      <th>birth_year</th>\n",
       "      <th>elementary_school_count</th>\n",
       "      <th>kindergarten_count</th>\n",
       "      <th>university_count</th>\n",
       "      <th>academy_ratio</th>\n",
       "      <th>elderly_population_ratio</th>\n",
       "      <th>latitude</th>\n",
       "      <th>longitude</th>\n",
       "      <th>elderly_alone_ratio</th>\n",
       "      <th>nursing_home_count</th>\n",
       "      <th>age_int</th>\n",
       "    </tr>\n",
       "  </thead>\n",
       "  <tbody>\n",
       "    <tr>\n",
       "      <th>0</th>\n",
       "      <td>1964.0</td>\n",
       "      <td>36</td>\n",
       "      <td>56</td>\n",
       "      <td>1</td>\n",
       "      <td>1.17</td>\n",
       "      <td>14.39</td>\n",
       "      <td>37.551166</td>\n",
       "      <td>126.849506</td>\n",
       "      <td>5.7</td>\n",
       "      <td>1080</td>\n",
       "      <td>5</td>\n",
       "    </tr>\n",
       "    <tr>\n",
       "      <th>1</th>\n",
       "      <td>1968.0</td>\n",
       "      <td>36</td>\n",
       "      <td>56</td>\n",
       "      <td>1</td>\n",
       "      <td>1.17</td>\n",
       "      <td>14.39</td>\n",
       "      <td>37.551166</td>\n",
       "      <td>126.849506</td>\n",
       "      <td>5.7</td>\n",
       "      <td>1080</td>\n",
       "      <td>5</td>\n",
       "    </tr>\n",
       "    <tr>\n",
       "      <th>2</th>\n",
       "      <td>1987.0</td>\n",
       "      <td>23</td>\n",
       "      <td>31</td>\n",
       "      <td>1</td>\n",
       "      <td>0.70</td>\n",
       "      <td>16.65</td>\n",
       "      <td>37.606832</td>\n",
       "      <td>127.092656</td>\n",
       "      <td>6.9</td>\n",
       "      <td>689</td>\n",
       "      <td>3</td>\n",
       "    </tr>\n",
       "    <tr>\n",
       "      <th>3</th>\n",
       "      <td>1964.0</td>\n",
       "      <td>13</td>\n",
       "      <td>17</td>\n",
       "      <td>3</td>\n",
       "      <td>1.71</td>\n",
       "      <td>18.27</td>\n",
       "      <td>37.572999</td>\n",
       "      <td>126.979189</td>\n",
       "      <td>6.8</td>\n",
       "      <td>668</td>\n",
       "      <td>5</td>\n",
       "    </tr>\n",
       "    <tr>\n",
       "      <th>4</th>\n",
       "      <td>1966.0</td>\n",
       "      <td>13</td>\n",
       "      <td>17</td>\n",
       "      <td>3</td>\n",
       "      <td>1.71</td>\n",
       "      <td>18.27</td>\n",
       "      <td>37.572999</td>\n",
       "      <td>126.979189</td>\n",
       "      <td>6.8</td>\n",
       "      <td>668</td>\n",
       "      <td>5</td>\n",
       "    </tr>\n",
       "    <tr>\n",
       "      <th>...</th>\n",
       "      <td>...</td>\n",
       "      <td>...</td>\n",
       "      <td>...</td>\n",
       "      <td>...</td>\n",
       "      <td>...</td>\n",
       "      <td>...</td>\n",
       "      <td>...</td>\n",
       "      <td>...</td>\n",
       "      <td>...</td>\n",
       "      <td>...</td>\n",
       "      <td>...</td>\n",
       "    </tr>\n",
       "    <tr>\n",
       "      <th>947</th>\n",
       "      <td>1969.0</td>\n",
       "      <td>17</td>\n",
       "      <td>16</td>\n",
       "      <td>2</td>\n",
       "      <td>1.25</td>\n",
       "      <td>27.01</td>\n",
       "      <td>35.686526</td>\n",
       "      <td>127.910021</td>\n",
       "      <td>17.4</td>\n",
       "      <td>127</td>\n",
       "      <td>5</td>\n",
       "    </tr>\n",
       "    <tr>\n",
       "      <th>948</th>\n",
       "      <td>1963.0</td>\n",
       "      <td>17</td>\n",
       "      <td>16</td>\n",
       "      <td>2</td>\n",
       "      <td>1.25</td>\n",
       "      <td>27.01</td>\n",
       "      <td>35.686526</td>\n",
       "      <td>127.910021</td>\n",
       "      <td>17.4</td>\n",
       "      <td>127</td>\n",
       "      <td>5</td>\n",
       "    </tr>\n",
       "    <tr>\n",
       "      <th>949</th>\n",
       "      <td>1998.0</td>\n",
       "      <td>113</td>\n",
       "      <td>123</td>\n",
       "      <td>4</td>\n",
       "      <td>1.53</td>\n",
       "      <td>15.10</td>\n",
       "      <td>33.488936</td>\n",
       "      <td>126.500423</td>\n",
       "      <td>6.4</td>\n",
       "      <td>1245</td>\n",
       "      <td>2</td>\n",
       "    </tr>\n",
       "    <tr>\n",
       "      <th>950</th>\n",
       "      <td>1998.0</td>\n",
       "      <td>113</td>\n",
       "      <td>123</td>\n",
       "      <td>4</td>\n",
       "      <td>1.53</td>\n",
       "      <td>15.10</td>\n",
       "      <td>33.488936</td>\n",
       "      <td>126.500423</td>\n",
       "      <td>6.4</td>\n",
       "      <td>1245</td>\n",
       "      <td>2</td>\n",
       "    </tr>\n",
       "    <tr>\n",
       "      <th>951</th>\n",
       "      <td>1974.0</td>\n",
       "      <td>113</td>\n",
       "      <td>123</td>\n",
       "      <td>4</td>\n",
       "      <td>1.53</td>\n",
       "      <td>15.10</td>\n",
       "      <td>33.488936</td>\n",
       "      <td>126.500423</td>\n",
       "      <td>6.4</td>\n",
       "      <td>1245</td>\n",
       "      <td>4</td>\n",
       "    </tr>\n",
       "  </tbody>\n",
       "</table>\n",
       "<p>952 rows × 11 columns</p>\n",
       "</div>"
      ],
      "text/plain": [
       "     birth_year  elementary_school_count  kindergarten_count  \\\n",
       "0        1964.0                       36                  56   \n",
       "1        1968.0                       36                  56   \n",
       "2        1987.0                       23                  31   \n",
       "3        1964.0                       13                  17   \n",
       "4        1966.0                       13                  17   \n",
       "..          ...                      ...                 ...   \n",
       "947      1969.0                       17                  16   \n",
       "948      1963.0                       17                  16   \n",
       "949      1998.0                      113                 123   \n",
       "950      1998.0                      113                 123   \n",
       "951      1974.0                      113                 123   \n",
       "\n",
       "     university_count  academy_ratio  elderly_population_ratio   latitude  \\\n",
       "0                   1           1.17                     14.39  37.551166   \n",
       "1                   1           1.17                     14.39  37.551166   \n",
       "2                   1           0.70                     16.65  37.606832   \n",
       "3                   3           1.71                     18.27  37.572999   \n",
       "4                   3           1.71                     18.27  37.572999   \n",
       "..                ...            ...                       ...        ...   \n",
       "947                 2           1.25                     27.01  35.686526   \n",
       "948                 2           1.25                     27.01  35.686526   \n",
       "949                 4           1.53                     15.10  33.488936   \n",
       "950                 4           1.53                     15.10  33.488936   \n",
       "951                 4           1.53                     15.10  33.488936   \n",
       "\n",
       "      longitude  elderly_alone_ratio  nursing_home_count  age_int  \n",
       "0    126.849506                  5.7                1080        5  \n",
       "1    126.849506                  5.7                1080        5  \n",
       "2    127.092656                  6.9                 689        3  \n",
       "3    126.979189                  6.8                 668        5  \n",
       "4    126.979189                  6.8                 668        5  \n",
       "..          ...                  ...                 ...      ...  \n",
       "947  127.910021                 17.4                 127        5  \n",
       "948  127.910021                 17.4                 127        5  \n",
       "949  126.500423                  6.4                1245        2  \n",
       "950  126.500423                  6.4                1245        2  \n",
       "951  126.500423                  6.4                1245        4  \n",
       "\n",
       "[952 rows x 11 columns]"
      ]
     },
     "execution_count": 16,
     "metadata": {},
     "output_type": "execute_result"
    }
   ],
   "source": [
    "data_pca"
   ]
  },
  {
   "cell_type": "code",
   "execution_count": 31,
   "metadata": {},
   "outputs": [
    {
     "data": {
      "text/html": [
       "<div>\n",
       "<style scoped>\n",
       "    .dataframe tbody tr th:only-of-type {\n",
       "        vertical-align: middle;\n",
       "    }\n",
       "\n",
       "    .dataframe tbody tr th {\n",
       "        vertical-align: top;\n",
       "    }\n",
       "\n",
       "    .dataframe thead th {\n",
       "        text-align: right;\n",
       "    }\n",
       "</style>\n",
       "<table border=\"1\" class=\"dataframe\">\n",
       "  <thead>\n",
       "    <tr style=\"text-align: right;\">\n",
       "      <th></th>\n",
       "      <th>0</th>\n",
       "      <th>1</th>\n",
       "      <th>2</th>\n",
       "    </tr>\n",
       "  </thead>\n",
       "  <tbody>\n",
       "    <tr>\n",
       "      <th>0</th>\n",
       "      <td>0.340437</td>\n",
       "      <td>0.439450</td>\n",
       "      <td>0.577860</td>\n",
       "    </tr>\n",
       "    <tr>\n",
       "      <th>1</th>\n",
       "      <td>0.340445</td>\n",
       "      <td>0.437860</td>\n",
       "      <td>0.536146</td>\n",
       "    </tr>\n",
       "    <tr>\n",
       "      <th>2</th>\n",
       "      <td>0.211365</td>\n",
       "      <td>0.436380</td>\n",
       "      <td>0.309048</td>\n",
       "    </tr>\n",
       "    <tr>\n",
       "      <th>3</th>\n",
       "      <td>0.204034</td>\n",
       "      <td>0.502386</td>\n",
       "      <td>0.531499</td>\n",
       "    </tr>\n",
       "    <tr>\n",
       "      <th>4</th>\n",
       "      <td>0.204038</td>\n",
       "      <td>0.501591</td>\n",
       "      <td>0.510642</td>\n",
       "    </tr>\n",
       "    <tr>\n",
       "      <th>...</th>\n",
       "      <td>...</td>\n",
       "      <td>...</td>\n",
       "      <td>...</td>\n",
       "    </tr>\n",
       "    <tr>\n",
       "      <th>947</th>\n",
       "      <td>0.026261</td>\n",
       "      <td>0.365837</td>\n",
       "      <td>0.490679</td>\n",
       "    </tr>\n",
       "    <tr>\n",
       "      <th>948</th>\n",
       "      <td>0.026249</td>\n",
       "      <td>0.368222</td>\n",
       "      <td>0.553250</td>\n",
       "    </tr>\n",
       "    <tr>\n",
       "      <th>949</th>\n",
       "      <td>0.396894</td>\n",
       "      <td>0.121135</td>\n",
       "      <td>0.330485</td>\n",
       "    </tr>\n",
       "    <tr>\n",
       "      <th>950</th>\n",
       "      <td>0.396894</td>\n",
       "      <td>0.121135</td>\n",
       "      <td>0.330485</td>\n",
       "    </tr>\n",
       "    <tr>\n",
       "      <th>951</th>\n",
       "      <td>0.396846</td>\n",
       "      <td>0.130752</td>\n",
       "      <td>0.582834</td>\n",
       "    </tr>\n",
       "  </tbody>\n",
       "</table>\n",
       "<p>952 rows × 3 columns</p>\n",
       "</div>"
      ],
      "text/plain": [
       "            0         1         2\n",
       "0    0.340437  0.439450  0.577860\n",
       "1    0.340445  0.437860  0.536146\n",
       "2    0.211365  0.436380  0.309048\n",
       "3    0.204034  0.502386  0.531499\n",
       "4    0.204038  0.501591  0.510642\n",
       "..        ...       ...       ...\n",
       "947  0.026261  0.365837  0.490679\n",
       "948  0.026249  0.368222  0.553250\n",
       "949  0.396894  0.121135  0.330485\n",
       "950  0.396894  0.121135  0.330485\n",
       "951  0.396846  0.130752  0.582834\n",
       "\n",
       "[952 rows x 3 columns]"
      ]
     },
     "execution_count": 31,
     "metadata": {},
     "output_type": "execute_result"
    }
   ],
   "source": [
    "#The dimension of the final data is 3\n",
    "pca=PCA(n_components=3)\n",
    "X_pca=pca.fit_transform(data_pca)\n",
    "df = pd.DataFrame(X_pca)\n",
    "df = (df-df.min())/(df.max()-df.min())\n",
    "df"
   ]
  },
  {
   "cell_type": "code",
   "execution_count": 32,
   "metadata": {},
   "outputs": [],
   "source": [
    "y = temp['recover_days']\n",
    "X = df\n",
    "X_train, X_test, y_train, y_test = train_test_split(X, y, test_size = 0.3,random_state=33)"
   ]
  },
  {
   "cell_type": "code",
   "execution_count": 33,
   "metadata": {},
   "outputs": [
    {
     "name": "stdout",
     "output_type": "stream",
     "text": [
      "R_square_value: \n",
      "0.051\n",
      "MSE_value: \n",
      "54.216\n"
     ]
    }
   ],
   "source": [
    "#1.LinearRegression\n",
    "lr = LinearRegression()\n",
    "lr.fit(X_train, y_train)\n",
    "predicted = lr.predict(X_test)\n",
    "print('R_square_value: ')\n",
    "print(round(r2_score(y_test, predicted),3))\n",
    "print( 'MSE_value: ')\n",
    "print(round(mean_squared_error(y_test, predicted),3))"
   ]
  },
  {
   "cell_type": "code",
   "execution_count": 34,
   "metadata": {},
   "outputs": [
    {
     "name": "stdout",
     "output_type": "stream",
     "text": [
      "R_square_value: \n",
      "0.0117\n",
      "MSE_value: \n",
      "56.4408\n"
     ]
    }
   ],
   "source": [
    "#2.Assembled model: GradientBoostingRegressor\n",
    "gbr=GradientBoostingRegressor()\n",
    "gbr.fit(X_train,y_train)\n",
    "predicted=gbr.predict(X_test)\n",
    "print('R_square_value: ')\n",
    "print(round(r2_score(y_test, predicted),4))\n",
    "print( 'MSE_value: ')\n",
    "print(round(mean_squared_error(y_test, predicted),4))"
   ]
  },
  {
   "cell_type": "markdown",
   "metadata": {},
   "source": [
    "**Conclusion:**\n",
    "\n",
    "After using PCA to Do  Do Data Preprocessing, we did not get a better model as we have expected. The result is much worse than the result of using the Greedy Algorithm to do the Feature Selection.\n",
    "\n",
    "I guess the reason is that maybe the dataset is not suitable for the method PCA to do data preprocessing.\n",
    "\n",
    "\n",
    "### 2.4 Clustering of Risk Levels of the Cities"
   ]
  },
  {
   "cell_type": "code",
   "execution_count": 13,
   "metadata": {
    "scrolled": false
   },
   "outputs": [
    {
     "data": {
      "text/html": [
       "<div>\n",
       "<style scoped>\n",
       "    .dataframe tbody tr th:only-of-type {\n",
       "        vertical-align: middle;\n",
       "    }\n",
       "\n",
       "    .dataframe tbody tr th {\n",
       "        vertical-align: top;\n",
       "    }\n",
       "\n",
       "    .dataframe thead th {\n",
       "        text-align: right;\n",
       "    }\n",
       "</style>\n",
       "<table border=\"1\" class=\"dataframe\">\n",
       "  <thead>\n",
       "    <tr style=\"text-align: right;\">\n",
       "      <th></th>\n",
       "      <th>city</th>\n",
       "      <th>cnt</th>\n",
       "    </tr>\n",
       "  </thead>\n",
       "  <tbody>\n",
       "    <tr>\n",
       "      <th>0</th>\n",
       "      <td>Gyeongsan-si</td>\n",
       "      <td>439</td>\n",
       "    </tr>\n",
       "    <tr>\n",
       "      <th>1</th>\n",
       "      <td>Cheonan-si</td>\n",
       "      <td>89</td>\n",
       "    </tr>\n",
       "    <tr>\n",
       "      <th>2</th>\n",
       "      <td>Gumi-si</td>\n",
       "      <td>49</td>\n",
       "    </tr>\n",
       "    <tr>\n",
       "      <th>3</th>\n",
       "      <td>Chilgok-gun</td>\n",
       "      <td>35</td>\n",
       "    </tr>\n",
       "    <tr>\n",
       "      <th>4</th>\n",
       "      <td>Yeongcheon-si</td>\n",
       "      <td>22</td>\n",
       "    </tr>\n",
       "  </tbody>\n",
       "</table>\n",
       "</div>"
      ],
      "text/plain": [
       "            city  cnt\n",
       "0   Gyeongsan-si  439\n",
       "1     Cheonan-si   89\n",
       "2        Gumi-si   49\n",
       "3    Chilgok-gun   35\n",
       "4  Yeongcheon-si   22"
      ]
     },
     "execution_count": 13,
     "metadata": {},
     "output_type": "execute_result"
    }
   ],
   "source": [
    "t=result['city'].value_counts()\n",
    "df=t.to_frame()\n",
    "df = df.reset_index()\n",
    "df=df.rename(columns={'city':'cnt'})\n",
    "df=df.rename(columns={'index':'city'})\n",
    "df.head(5)"
   ]
  },
  {
   "cell_type": "code",
   "execution_count": 14,
   "metadata": {},
   "outputs": [
    {
     "data": {
      "text/html": [
       "<div>\n",
       "<style scoped>\n",
       "    .dataframe tbody tr th:only-of-type {\n",
       "        vertical-align: middle;\n",
       "    }\n",
       "\n",
       "    .dataframe tbody tr th {\n",
       "        vertical-align: top;\n",
       "    }\n",
       "\n",
       "    .dataframe thead th {\n",
       "        text-align: right;\n",
       "    }\n",
       "</style>\n",
       "<table border=\"1\" class=\"dataframe\">\n",
       "  <thead>\n",
       "    <tr style=\"text-align: right;\">\n",
       "      <th></th>\n",
       "      <th>city</th>\n",
       "      <th>cnt</th>\n",
       "      <th>code</th>\n",
       "      <th>province</th>\n",
       "      <th>latitude</th>\n",
       "      <th>longitude</th>\n",
       "      <th>elementary_school_count</th>\n",
       "      <th>kindergarten_count</th>\n",
       "      <th>university_count</th>\n",
       "      <th>academy_ratio</th>\n",
       "      <th>elderly_population_ratio</th>\n",
       "      <th>elderly_alone_ratio</th>\n",
       "      <th>nursing_home_count</th>\n",
       "    </tr>\n",
       "  </thead>\n",
       "  <tbody>\n",
       "    <tr>\n",
       "      <th>0</th>\n",
       "      <td>Gyeongsan-si</td>\n",
       "      <td>439</td>\n",
       "      <td>60010</td>\n",
       "      <td>Gyeongsangbuk-do</td>\n",
       "      <td>35.825056</td>\n",
       "      <td>128.741544</td>\n",
       "      <td>31</td>\n",
       "      <td>61</td>\n",
       "      <td>10</td>\n",
       "      <td>1.34</td>\n",
       "      <td>16.18</td>\n",
       "      <td>7.0</td>\n",
       "      <td>427</td>\n",
       "    </tr>\n",
       "    <tr>\n",
       "      <th>1</th>\n",
       "      <td>Cheonan-si</td>\n",
       "      <td>89</td>\n",
       "      <td>41120</td>\n",
       "      <td>Chungcheongnam-do</td>\n",
       "      <td>36.814980</td>\n",
       "      <td>127.113868</td>\n",
       "      <td>75</td>\n",
       "      <td>112</td>\n",
       "      <td>6</td>\n",
       "      <td>1.91</td>\n",
       "      <td>10.42</td>\n",
       "      <td>4.5</td>\n",
       "      <td>1069</td>\n",
       "    </tr>\n",
       "    <tr>\n",
       "      <th>2</th>\n",
       "      <td>Gumi-si</td>\n",
       "      <td>49</td>\n",
       "      <td>60040</td>\n",
       "      <td>Gyeongsangbuk-do</td>\n",
       "      <td>36.119641</td>\n",
       "      <td>128.344295</td>\n",
       "      <td>50</td>\n",
       "      <td>104</td>\n",
       "      <td>3</td>\n",
       "      <td>1.96</td>\n",
       "      <td>9.08</td>\n",
       "      <td>4.3</td>\n",
       "      <td>616</td>\n",
       "    </tr>\n",
       "    <tr>\n",
       "      <th>3</th>\n",
       "      <td>Chilgok-gun</td>\n",
       "      <td>35</td>\n",
       "      <td>60220</td>\n",
       "      <td>Gyeongsangbuk-do</td>\n",
       "      <td>35.995529</td>\n",
       "      <td>128.401735</td>\n",
       "      <td>21</td>\n",
       "      <td>32</td>\n",
       "      <td>2</td>\n",
       "      <td>1.48</td>\n",
       "      <td>15.17</td>\n",
       "      <td>6.7</td>\n",
       "      <td>151</td>\n",
       "    </tr>\n",
       "    <tr>\n",
       "      <th>4</th>\n",
       "      <td>Yeongcheon-si</td>\n",
       "      <td>22</td>\n",
       "      <td>60150</td>\n",
       "      <td>Gyeongsangbuk-do</td>\n",
       "      <td>35.973268</td>\n",
       "      <td>128.938603</td>\n",
       "      <td>18</td>\n",
       "      <td>23</td>\n",
       "      <td>1</td>\n",
       "      <td>0.83</td>\n",
       "      <td>27.32</td>\n",
       "      <td>15.3</td>\n",
       "      <td>192</td>\n",
       "    </tr>\n",
       "  </tbody>\n",
       "</table>\n",
       "</div>"
      ],
      "text/plain": [
       "            city  cnt   code           province   latitude   longitude  \\\n",
       "0   Gyeongsan-si  439  60010   Gyeongsangbuk-do  35.825056  128.741544   \n",
       "1     Cheonan-si   89  41120  Chungcheongnam-do  36.814980  127.113868   \n",
       "2        Gumi-si   49  60040   Gyeongsangbuk-do  36.119641  128.344295   \n",
       "3    Chilgok-gun   35  60220   Gyeongsangbuk-do  35.995529  128.401735   \n",
       "4  Yeongcheon-si   22  60150   Gyeongsangbuk-do  35.973268  128.938603   \n",
       "\n",
       "   elementary_school_count  kindergarten_count  university_count  \\\n",
       "0                       31                  61                10   \n",
       "1                       75                 112                 6   \n",
       "2                       50                 104                 3   \n",
       "3                       21                  32                 2   \n",
       "4                       18                  23                 1   \n",
       "\n",
       "   academy_ratio  elderly_population_ratio  elderly_alone_ratio  \\\n",
       "0           1.34                     16.18                  7.0   \n",
       "1           1.91                     10.42                  4.5   \n",
       "2           1.96                      9.08                  4.3   \n",
       "3           1.48                     15.17                  6.7   \n",
       "4           0.83                     27.32                 15.3   \n",
       "\n",
       "   nursing_home_count  \n",
       "0                 427  \n",
       "1                1069  \n",
       "2                 616  \n",
       "3                 151  \n",
       "4                 192  "
      ]
     },
     "execution_count": 14,
     "metadata": {},
     "output_type": "execute_result"
    }
   ],
   "source": [
    "t = pd.merge(df,Region, on='city')\n",
    "t.head(5)"
   ]
  },
  {
   "cell_type": "code",
   "execution_count": 32,
   "metadata": {},
   "outputs": [
    {
     "data": {
      "text/html": [
       "<div>\n",
       "<style scoped>\n",
       "    .dataframe tbody tr th:only-of-type {\n",
       "        vertical-align: middle;\n",
       "    }\n",
       "\n",
       "    .dataframe tbody tr th {\n",
       "        vertical-align: top;\n",
       "    }\n",
       "\n",
       "    .dataframe thead th {\n",
       "        text-align: right;\n",
       "    }\n",
       "</style>\n",
       "<table border=\"1\" class=\"dataframe\">\n",
       "  <thead>\n",
       "    <tr style=\"text-align: right;\">\n",
       "      <th></th>\n",
       "      <th>cnt</th>\n",
       "      <th>latitude</th>\n",
       "      <th>longitude</th>\n",
       "      <th>elementary_school_count</th>\n",
       "      <th>kindergarten_count</th>\n",
       "      <th>university_count</th>\n",
       "      <th>academy_ratio</th>\n",
       "      <th>elderly_population_ratio</th>\n",
       "      <th>elderly_alone_ratio</th>\n",
       "      <th>nursing_home_count</th>\n",
       "    </tr>\n",
       "    <tr>\n",
       "      <th>city</th>\n",
       "      <th></th>\n",
       "      <th></th>\n",
       "      <th></th>\n",
       "      <th></th>\n",
       "      <th></th>\n",
       "      <th></th>\n",
       "      <th></th>\n",
       "      <th></th>\n",
       "      <th></th>\n",
       "      <th></th>\n",
       "    </tr>\n",
       "  </thead>\n",
       "  <tbody>\n",
       "    <tr>\n",
       "      <th>Gyeongsan-si</th>\n",
       "      <td>1.000000</td>\n",
       "      <td>0.495141</td>\n",
       "      <td>0.772432</td>\n",
       "      <td>0.247706</td>\n",
       "      <td>0.298429</td>\n",
       "      <td>1.0</td>\n",
       "      <td>0.256545</td>\n",
       "      <td>0.307943</td>\n",
       "      <td>0.221557</td>\n",
       "      <td>0.124959</td>\n",
       "    </tr>\n",
       "    <tr>\n",
       "      <th>Cheonan-si</th>\n",
       "      <td>0.200913</td>\n",
       "      <td>0.704956</td>\n",
       "      <td>0.223707</td>\n",
       "      <td>0.651376</td>\n",
       "      <td>0.565445</td>\n",
       "      <td>0.6</td>\n",
       "      <td>0.405759</td>\n",
       "      <td>0.099021</td>\n",
       "      <td>0.071856</td>\n",
       "      <td>0.336074</td>\n",
       "    </tr>\n",
       "    <tr>\n",
       "      <th>Gumi-si</th>\n",
       "      <td>0.109589</td>\n",
       "      <td>0.557579</td>\n",
       "      <td>0.638511</td>\n",
       "      <td>0.422018</td>\n",
       "      <td>0.523560</td>\n",
       "      <td>0.3</td>\n",
       "      <td>0.418848</td>\n",
       "      <td>0.050417</td>\n",
       "      <td>0.059880</td>\n",
       "      <td>0.187110</td>\n",
       "    </tr>\n",
       "    <tr>\n",
       "      <th>Chilgok-gun</th>\n",
       "      <td>0.077626</td>\n",
       "      <td>0.531273</td>\n",
       "      <td>0.657875</td>\n",
       "      <td>0.155963</td>\n",
       "      <td>0.146597</td>\n",
       "      <td>0.2</td>\n",
       "      <td>0.293194</td>\n",
       "      <td>0.271309</td>\n",
       "      <td>0.203593</td>\n",
       "      <td>0.034199</td>\n",
       "    </tr>\n",
       "    <tr>\n",
       "      <th>Yeongcheon-si</th>\n",
       "      <td>0.047945</td>\n",
       "      <td>0.526555</td>\n",
       "      <td>0.838865</td>\n",
       "      <td>0.128440</td>\n",
       "      <td>0.099476</td>\n",
       "      <td>0.1</td>\n",
       "      <td>0.123037</td>\n",
       "      <td>0.712006</td>\n",
       "      <td>0.718563</td>\n",
       "      <td>0.047682</td>\n",
       "    </tr>\n",
       "  </tbody>\n",
       "</table>\n",
       "</div>"
      ],
      "text/plain": [
       "                    cnt  latitude  longitude  elementary_school_count  \\\n",
       "city                                                                    \n",
       "Gyeongsan-si   1.000000  0.495141   0.772432                 0.247706   \n",
       "Cheonan-si     0.200913  0.704956   0.223707                 0.651376   \n",
       "Gumi-si        0.109589  0.557579   0.638511                 0.422018   \n",
       "Chilgok-gun    0.077626  0.531273   0.657875                 0.155963   \n",
       "Yeongcheon-si  0.047945  0.526555   0.838865                 0.128440   \n",
       "\n",
       "               kindergarten_count  university_count  academy_ratio  \\\n",
       "city                                                                 \n",
       "Gyeongsan-si             0.298429               1.0       0.256545   \n",
       "Cheonan-si               0.565445               0.6       0.405759   \n",
       "Gumi-si                  0.523560               0.3       0.418848   \n",
       "Chilgok-gun              0.146597               0.2       0.293194   \n",
       "Yeongcheon-si            0.099476               0.1       0.123037   \n",
       "\n",
       "               elderly_population_ratio  elderly_alone_ratio  \\\n",
       "city                                                           \n",
       "Gyeongsan-si                   0.307943             0.221557   \n",
       "Cheonan-si                     0.099021             0.071856   \n",
       "Gumi-si                        0.050417             0.059880   \n",
       "Chilgok-gun                    0.271309             0.203593   \n",
       "Yeongcheon-si                  0.712006             0.718563   \n",
       "\n",
       "               nursing_home_count  \n",
       "city                               \n",
       "Gyeongsan-si             0.124959  \n",
       "Cheonan-si               0.336074  \n",
       "Gumi-si                  0.187110  \n",
       "Chilgok-gun              0.034199  \n",
       "Yeongcheon-si            0.047682  "
      ]
     },
     "execution_count": 32,
     "metadata": {},
     "output_type": "execute_result"
    }
   ],
   "source": [
    "col=['cnt','latitude','longitude','elementary_school_count','kindergarten_count','university_count','academy_ratio'\n",
    "     ,'elderly_population_ratio','elderly_alone_ratio','nursing_home_count','city']\n",
    "a=t[col]\n",
    "a.set_index(['city'],inplace=True)\n",
    "#min-max normalization\n",
    "a = (a-a.min())/(a.max()-a.min())\n",
    "b=a\n",
    "a.head(5)"
   ]
  },
  {
   "cell_type": "code",
   "execution_count": 33,
   "metadata": {},
   "outputs": [],
   "source": [
    "# generate the linkage matrix\n",
    "Z = linkage(a, 'complete', 'minkowski')"
   ]
  },
  {
   "cell_type": "code",
   "execution_count": 34,
   "metadata": {},
   "outputs": [
    {
     "data": {
      "image/png": "[encoded data removed]",
      "text/plain": [
       "<Figure size 1800x720 with 1 Axes>"
      ]
     },
     "metadata": {
      "needs_background": "light"
     },
     "output_type": "display_data"
    }
   ],
   "source": [
    "# calculate full dendrogram\n",
    "plt.figure(figsize=(25, 10))\n",
    "plt.title('Hierarchical Clustering Dendrogram')\n",
    "plt.xlabel('sample index')\n",
    "plt.ylabel('distance')\n",
    "dendrogram(\n",
    "    Z,\n",
    "    no_labels = True\n",
    ")\n",
    "plt.show()"
   ]
  },
  {
   "cell_type": "code",
   "execution_count": 35,
   "metadata": {},
   "outputs": [
    {
     "data": {
      "image/png": "[encoded data removed]",
      "text/plain": [
       "<Figure size 432x288 with 1 Axes>"
      ]
     },
     "metadata": {
      "needs_background": "light"
     },
     "output_type": "display_data"
    }
   ],
   "source": [
    "plt.title('Hierarchical Clustering Dendrogram (truncated)')\n",
    "plt.xlabel('sample index')\n",
    "plt.ylabel('distance')\n",
    "dendrogram(\n",
    "    Z,\n",
    "    truncate_mode='lastp',  # show only the last p merged clusters\n",
    "    p=3,  # show only the last p merged clusters\n",
    "    show_leaf_counts=False,  # otherwise numbers in brackets are counts\n",
    "    show_contracted=True,  # to get a distribution impression in truncated branches\n",
    ")\n",
    "plt.show()"
   ]
  },
  {
   "cell_type": "code",
   "execution_count": 36,
   "metadata": {
    "scrolled": true
   },
   "outputs": [],
   "source": [
    "#We use the MDS method to reduce the dimension of the distance matrix, and use different colors to represent the clustering results. \n",
    "seed = np.random.RandomState(seed=3)\n",
    "mds = manifold.MDS(n_components=2, max_iter=3000, eps=1e-9, random_state=seed,\n",
    "                n_jobs=1)\n",
    "pos = mds.fit(a).embedding_"
   ]
  },
  {
   "cell_type": "code",
   "execution_count": 135,
   "metadata": {},
   "outputs": [
    {
     "data": {
      "image/png": "[encoded data removed]",
      "text/plain": [
       "<Figure size 720x576 with 1 Axes>"
      ]
     },
     "metadata": {
      "needs_background": "light"
     },
     "output_type": "display_data"
    }
   ],
   "source": [
    "k=3\n",
    "clusters = fcluster(Z, k, criterion='maxclust')\n",
    "plt.figure(figsize=(10, 8))\n",
    "plt.scatter(pos[:,0], pos[:,1], c=clusters, cmap='prism')  # plot points with cluster dependent colors\n",
    "plt.show()"
   ]
  },
  {
   "cell_type": "code",
   "execution_count": 140,
   "metadata": {},
   "outputs": [
    {
     "data": {
      "text/html": [
       "<div>\n",
       "<style scoped>\n",
       "    .dataframe tbody tr th:only-of-type {\n",
       "        vertical-align: middle;\n",
       "    }\n",
       "\n",
       "    .dataframe tbody tr th {\n",
       "        vertical-align: top;\n",
       "    }\n",
       "\n",
       "    .dataframe thead th {\n",
       "        text-align: right;\n",
       "    }\n",
       "</style>\n",
       "<table border=\"1\" class=\"dataframe\">\n",
       "  <thead>\n",
       "    <tr style=\"text-align: right;\">\n",
       "      <th></th>\n",
       "      <th>cnt</th>\n",
       "      <th>latitude</th>\n",
       "      <th>longitude</th>\n",
       "      <th>elementary_school_count</th>\n",
       "      <th>kindergarten_count</th>\n",
       "      <th>university_count</th>\n",
       "      <th>academy_ratio</th>\n",
       "      <th>elderly_population_ratio</th>\n",
       "      <th>elderly_alone_ratio</th>\n",
       "      <th>nursing_home_count</th>\n",
       "    </tr>\n",
       "    <tr>\n",
       "      <th>cluster</th>\n",
       "      <th></th>\n",
       "      <th></th>\n",
       "      <th></th>\n",
       "      <th></th>\n",
       "      <th></th>\n",
       "      <th></th>\n",
       "      <th></th>\n",
       "      <th></th>\n",
       "      <th></th>\n",
       "      <th></th>\n",
       "    </tr>\n",
       "  </thead>\n",
       "  <tbody>\n",
       "    <tr>\n",
       "      <th>1</th>\n",
       "      <td>16.166667</td>\n",
       "      <td>36.474173</td>\n",
       "      <td>127.457965</td>\n",
       "      <td>76.000000</td>\n",
       "      <td>135.166667</td>\n",
       "      <td>4.916667</td>\n",
       "      <td>1.912500</td>\n",
       "      <td>12.203333</td>\n",
       "      <td>5.425000</td>\n",
       "      <td>1249.666667</td>\n",
       "    </tr>\n",
       "    <tr>\n",
       "      <th>2</th>\n",
       "      <td>4.098039</td>\n",
       "      <td>37.150067</td>\n",
       "      <td>127.067092</td>\n",
       "      <td>29.098039</td>\n",
       "      <td>43.843137</td>\n",
       "      <td>1.980392</td>\n",
       "      <td>1.483922</td>\n",
       "      <td>15.057255</td>\n",
       "      <td>6.333333</td>\n",
       "      <td>664.137255</td>\n",
       "    </tr>\n",
       "    <tr>\n",
       "      <th>3</th>\n",
       "      <td>18.694444</td>\n",
       "      <td>35.938680</td>\n",
       "      <td>128.591659</td>\n",
       "      <td>20.750000</td>\n",
       "      <td>29.250000</td>\n",
       "      <td>1.250000</td>\n",
       "      <td>1.388611</td>\n",
       "      <td>21.550556</td>\n",
       "      <td>11.011111</td>\n",
       "      <td>279.305556</td>\n",
       "    </tr>\n",
       "  </tbody>\n",
       "</table>\n",
       "</div>"
      ],
      "text/plain": [
       "               cnt   latitude   longitude  elementary_school_count  \\\n",
       "cluster                                                              \n",
       "1        16.166667  36.474173  127.457965                76.000000   \n",
       "2         4.098039  37.150067  127.067092                29.098039   \n",
       "3        18.694444  35.938680  128.591659                20.750000   \n",
       "\n",
       "         kindergarten_count  university_count  academy_ratio  \\\n",
       "cluster                                                        \n",
       "1                135.166667          4.916667       1.912500   \n",
       "2                 43.843137          1.980392       1.483922   \n",
       "3                 29.250000          1.250000       1.388611   \n",
       "\n",
       "         elderly_population_ratio  elderly_alone_ratio  nursing_home_count  \n",
       "cluster                                                                     \n",
       "1                       12.203333             5.425000         1249.666667  \n",
       "2                       15.057255             6.333333          664.137255  \n",
       "3                       21.550556            11.011111          279.305556  "
      ]
     },
     "execution_count": 140,
     "metadata": {},
     "output_type": "execute_result"
    }
   ],
   "source": [
    "b=b.copy()\n",
    "b['cluster'] = clusters\n",
    "b.groupby('cluster').mean()"
   ]
  },
  {
   "cell_type": "markdown",
   "metadata": {},
   "source": [
    "**Conclusion:**\n",
    "\n",
    "We use the MDS method to reduce the dimension of the distance matrix, and use different colors to represent the clustering results.\n",
    "The figure above shows that the results is good.\n",
    "\n",
    "The cities are divided into three different risk levels: high, middle, or low.\n",
    "\n",
    "In the high risk level cities(cluster 3), the number of confirmed patients, the elderly_alone_ratio and the elderly_population_ratio\n",
    "is the largest but the nursing_home_count and the academy_ratio is the smallest. It is very reasonable to classify the places with high number of diagnosed patients, serious aging, small number of nursing homes and people with low education level as high-risk areas.\n",
    "\n",
    "In the mid risk level cities(cluster 1), although the number of confirmed patients is large, the nursing_home_count and\n",
    "the academy_ratio are maximal and the elderly_population_ratio and the elderly_alone_ratio is minimal which means there are\n",
    "more medical resources for every patient.\n",
    "\n",
    "In the low risk level cities(cluster 2), the number of confirmed patients is fewest and the academy_ratio, elderly_population_ratio,\n",
    "elderly_alone_ratio and nursing_home_count are all middle valuse.\n",
    "\n",
    "If I were the policy maker, I would distribute more medical resources to cities with high level of risk, and send medical teams to assist high-risk cities.\n",
    "\n",
    "## 3. Conclusion:\n",
    "\n",
    "By analyzing these data of South Korea, I found COVID-19 is highly transmitted and people of all ages are easily infected. The main transmission route is contact transmission, so reducing aggregation and paying attention to wearing masks are good protective measures. At the same time, we should assist medical resources and send medical teams to high-risk areas to help them fight the epidemic together and overcome difficulties."
   ]
  }
 ],
 "metadata": {
  "kernelspec": {
   "display_name": "Python 3",
   "language": "python",
   "name": "python3"
  },
  "language_info": {
   "codemirror_mode": {
    "name": "ipython",
    "version": 3
   },
   "file_extension": ".py",
   "mimetype": "text/x-python",
   "name": "python",
   "nbconvert_exporter": "python",
   "pygments_lexer": "ipython3",
   "version": "3.7.6"
  }
 },
 "nbformat": 4,
 "nbformat_minor": 4
}
